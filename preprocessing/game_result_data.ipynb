{
 "cells": [
  {
   "cell_type": "markdown",
   "metadata": {},
   "source": [
    "# train_data 만들기"
   ]
  },
  {
   "cell_type": "markdown",
   "metadata": {},
   "source": [
    "#### X_train\n",
    "* diff_att_pdistance : team_one's attacker_payload_distance - team_two's attacker_payload_distance\n",
    "* diff_def_pdistance : team_one's defender_payload_distance -  team_two's defender_payload_distance\n",
    "* diff_att_time_b : team_one's attacker_time_banked - team_two's attacker_time_banked\n",
    "* diff_def_time_b : team_one's defender_time_banked - team_two's defender_time_banked\n",
    "* diff_att_control_p : team_one's attacker_control_perecent - team_two's attacker_control_perecent\n",
    "* diff_def_control_p : team_one's defender_control_perecent - team_two's defender_control_perecent\n",
    "#### y\n",
    "* result : team one이 우승하면 1 team two가 우승하면 0"
   ]
  },
  {
   "cell_type": "code",
   "execution_count": 2,
   "metadata": {},
   "outputs": [],
   "source": [
    "import pandas as pd\n",
    "import matplotlib.pyplot as plt\n",
    "import seaborn as sns"
   ]
  },
  {
   "cell_type": "code",
   "execution_count": 4,
   "metadata": {},
   "outputs": [],
   "source": [
    "df = pd.read_csv('data/year_team12_data.csv')"
   ]
  },
  {
   "cell_type": "code",
   "execution_count": 5,
   "metadata": {},
   "outputs": [
    {
     "data": {
      "text/html": [
       "<div>\n",
       "<style scoped>\n",
       "    .dataframe tbody tr th:only-of-type {\n",
       "        vertical-align: middle;\n",
       "    }\n",
       "\n",
       "    .dataframe tbody tr th {\n",
       "        vertical-align: top;\n",
       "    }\n",
       "\n",
       "    .dataframe thead th {\n",
       "        text-align: right;\n",
       "    }\n",
       "</style>\n",
       "<table border=\"1\" class=\"dataframe\">\n",
       "  <thead>\n",
       "    <tr style=\"text-align: right;\">\n",
       "      <th></th>\n",
       "      <th>key</th>\n",
       "      <th>map_winner</th>\n",
       "      <th>attacker_payload_distance1</th>\n",
       "      <th>attacker_payload_distance2</th>\n",
       "      <th>defender_payload_distance1</th>\n",
       "      <th>defender_payload_distance2</th>\n",
       "      <th>attacker_time_banked1</th>\n",
       "      <th>attacker_time_banked2</th>\n",
       "      <th>defender_time_banked1</th>\n",
       "      <th>defender_time_banked2</th>\n",
       "      <th>attacker_control_perecent1</th>\n",
       "      <th>attacker_control_perecent2</th>\n",
       "      <th>defender_control_perecent1</th>\n",
       "      <th>defender_control_perecent2</th>\n",
       "      <th>team_one_name</th>\n",
       "      <th>team_two_name</th>\n",
       "      <th>year</th>\n",
       "    </tr>\n",
       "  </thead>\n",
       "  <tbody>\n",
       "    <tr>\n",
       "      <th>0</th>\n",
       "      <td>(10223, 1)</td>\n",
       "      <td>Los Angeles Valiant</td>\n",
       "      <td>75.649597</td>\n",
       "      <td>75.615051</td>\n",
       "      <td>0.0</td>\n",
       "      <td>75.615051</td>\n",
       "      <td>125.750572</td>\n",
       "      <td>0.000000</td>\n",
       "      <td>240.000000</td>\n",
       "      <td>0.000000</td>\n",
       "      <td>0.0</td>\n",
       "      <td>0.0</td>\n",
       "      <td>0.0</td>\n",
       "      <td>0.0</td>\n",
       "      <td>Los Angeles Valiant</td>\n",
       "      <td>San Francisco Shock</td>\n",
       "      <td>2018</td>\n",
       "    </tr>\n",
       "    <tr>\n",
       "      <th>1</th>\n",
       "      <td>(10223, 2)</td>\n",
       "      <td>Los Angeles Valiant</td>\n",
       "      <td>0.000000</td>\n",
       "      <td>0.000000</td>\n",
       "      <td>0.0</td>\n",
       "      <td>0.000000</td>\n",
       "      <td>262.185089</td>\n",
       "      <td>250.492004</td>\n",
       "      <td>276.396057</td>\n",
       "      <td>500.984009</td>\n",
       "      <td>0.0</td>\n",
       "      <td>0.0</td>\n",
       "      <td>0.0</td>\n",
       "      <td>0.0</td>\n",
       "      <td>Los Angeles Valiant</td>\n",
       "      <td>San Francisco Shock</td>\n",
       "      <td>2018</td>\n",
       "    </tr>\n",
       "    <tr>\n",
       "      <th>2</th>\n",
       "      <td>(10223, 3)</td>\n",
       "      <td>Los Angeles Valiant</td>\n",
       "      <td>0.000000</td>\n",
       "      <td>0.000000</td>\n",
       "      <td>0.0</td>\n",
       "      <td>0.000000</td>\n",
       "      <td>0.000000</td>\n",
       "      <td>0.000000</td>\n",
       "      <td>0.000000</td>\n",
       "      <td>0.000000</td>\n",
       "      <td>299.0</td>\n",
       "      <td>0.0</td>\n",
       "      <td>0.0</td>\n",
       "      <td>165.0</td>\n",
       "      <td>Los Angeles Valiant</td>\n",
       "      <td>San Francisco Shock</td>\n",
       "      <td>2018</td>\n",
       "    </tr>\n",
       "    <tr>\n",
       "      <th>3</th>\n",
       "      <td>(10223, 4)</td>\n",
       "      <td>Los Angeles Valiant</td>\n",
       "      <td>75.563667</td>\n",
       "      <td>75.549507</td>\n",
       "      <td>0.0</td>\n",
       "      <td>75.549507</td>\n",
       "      <td>165.840027</td>\n",
       "      <td>0.000000</td>\n",
       "      <td>0.000000</td>\n",
       "      <td>0.000000</td>\n",
       "      <td>0.0</td>\n",
       "      <td>0.0</td>\n",
       "      <td>0.0</td>\n",
       "      <td>0.0</td>\n",
       "      <td>Los Angeles Valiant</td>\n",
       "      <td>San Francisco Shock</td>\n",
       "      <td>2018</td>\n",
       "    </tr>\n",
       "    <tr>\n",
       "      <th>4</th>\n",
       "      <td>(10224, 1)</td>\n",
       "      <td>Los Angeles Gladiators</td>\n",
       "      <td>70.178932</td>\n",
       "      <td>70.161865</td>\n",
       "      <td>0.0</td>\n",
       "      <td>70.161865</td>\n",
       "      <td>186.312805</td>\n",
       "      <td>0.000000</td>\n",
       "      <td>240.000000</td>\n",
       "      <td>0.000000</td>\n",
       "      <td>0.0</td>\n",
       "      <td>0.0</td>\n",
       "      <td>0.0</td>\n",
       "      <td>0.0</td>\n",
       "      <td>Los Angeles Gladiators</td>\n",
       "      <td>Shanghai Dragons</td>\n",
       "      <td>2018</td>\n",
       "    </tr>\n",
       "  </tbody>\n",
       "</table>\n",
       "</div>"
      ],
      "text/plain": [
       "          key              map_winner  attacker_payload_distance1  \\\n",
       "0  (10223, 1)     Los Angeles Valiant                   75.649597   \n",
       "1  (10223, 2)     Los Angeles Valiant                    0.000000   \n",
       "2  (10223, 3)     Los Angeles Valiant                    0.000000   \n",
       "3  (10223, 4)     Los Angeles Valiant                   75.563667   \n",
       "4  (10224, 1)  Los Angeles Gladiators                   70.178932   \n",
       "\n",
       "   attacker_payload_distance2  defender_payload_distance1  \\\n",
       "0                   75.615051                         0.0   \n",
       "1                    0.000000                         0.0   \n",
       "2                    0.000000                         0.0   \n",
       "3                   75.549507                         0.0   \n",
       "4                   70.161865                         0.0   \n",
       "\n",
       "   defender_payload_distance2  attacker_time_banked1  attacker_time_banked2  \\\n",
       "0                   75.615051             125.750572               0.000000   \n",
       "1                    0.000000             262.185089             250.492004   \n",
       "2                    0.000000               0.000000               0.000000   \n",
       "3                   75.549507             165.840027               0.000000   \n",
       "4                   70.161865             186.312805               0.000000   \n",
       "\n",
       "   defender_time_banked1  defender_time_banked2  attacker_control_perecent1  \\\n",
       "0             240.000000               0.000000                         0.0   \n",
       "1             276.396057             500.984009                         0.0   \n",
       "2               0.000000               0.000000                       299.0   \n",
       "3               0.000000               0.000000                         0.0   \n",
       "4             240.000000               0.000000                         0.0   \n",
       "\n",
       "   attacker_control_perecent2  defender_control_perecent1  \\\n",
       "0                         0.0                         0.0   \n",
       "1                         0.0                         0.0   \n",
       "2                         0.0                         0.0   \n",
       "3                         0.0                         0.0   \n",
       "4                         0.0                         0.0   \n",
       "\n",
       "   defender_control_perecent2           team_one_name        team_two_name  \\\n",
       "0                         0.0     Los Angeles Valiant  San Francisco Shock   \n",
       "1                         0.0     Los Angeles Valiant  San Francisco Shock   \n",
       "2                       165.0     Los Angeles Valiant  San Francisco Shock   \n",
       "3                         0.0     Los Angeles Valiant  San Francisco Shock   \n",
       "4                         0.0  Los Angeles Gladiators     Shanghai Dragons   \n",
       "\n",
       "   year  \n",
       "0  2018  \n",
       "1  2018  \n",
       "2  2018  \n",
       "3  2018  \n",
       "4  2018  "
      ]
     },
     "execution_count": 5,
     "metadata": {},
     "output_type": "execute_result"
    }
   ],
   "source": [
    "df.head()"
   ]
  },
  {
   "cell_type": "code",
   "execution_count": 6,
   "metadata": {},
   "outputs": [
    {
     "data": {
      "text/plain": [
       "Index(['key', 'map_winner', 'attacker_payload_distance1',\n",
       "       'attacker_payload_distance2', 'defender_payload_distance1',\n",
       "       'defender_payload_distance2', 'attacker_time_banked1',\n",
       "       'attacker_time_banked2', 'defender_time_banked1',\n",
       "       'defender_time_banked2', 'attacker_control_perecent1',\n",
       "       'attacker_control_perecent2', 'defender_control_perecent1',\n",
       "       'defender_control_perecent2', 'team_one_name', 'team_two_name', 'year'],\n",
       "      dtype='object')"
      ]
     },
     "execution_count": 6,
     "metadata": {},
     "output_type": "execute_result"
    }
   ],
   "source": [
    "df.columns"
   ]
  },
  {
   "cell_type": "code",
   "execution_count": 7,
   "metadata": {},
   "outputs": [
    {
     "data": {
      "text/plain": [
       "(3632, 17)"
      ]
     },
     "execution_count": 7,
     "metadata": {},
     "output_type": "execute_result"
    }
   ],
   "source": [
    "df.shape"
   ]
  },
  {
   "cell_type": "markdown",
   "metadata": {},
   "source": [
    "# 탐색"
   ]
  },
  {
   "cell_type": "code",
   "execution_count": 9,
   "metadata": {},
   "outputs": [
    {
     "data": {
      "text/plain": [
       "(1109, 17)"
      ]
     },
     "execution_count": 9,
     "metadata": {},
     "output_type": "execute_result"
    }
   ],
   "source": [
    "df[df['year']==2018].shape"
   ]
  },
  {
   "cell_type": "code",
   "execution_count": 11,
   "metadata": {},
   "outputs": [
    {
     "data": {
      "text/plain": [
       "(1370, 17)"
      ]
     },
     "execution_count": 11,
     "metadata": {},
     "output_type": "execute_result"
    }
   ],
   "source": [
    "df[df['year']==2019].shape"
   ]
  },
  {
   "cell_type": "code",
   "execution_count": 14,
   "metadata": {},
   "outputs": [
    {
     "data": {
      "text/plain": [
       "1153"
      ]
     },
     "execution_count": 14,
     "metadata": {},
     "output_type": "execute_result"
    }
   ],
   "source": [
    "df[df['year']==2020].shape[0] "
   ]
  },
  {
   "cell_type": "markdown",
   "metadata": {},
   "source": [
    "# 데이터 만들기"
   ]
  },
  {
   "cell_type": "code",
   "execution_count": 6,
   "metadata": {},
   "outputs": [],
   "source": [
    "df1 = pd.DataFrame(index=range(0,len(df)), columns=['diff_att_pdistance'])"
   ]
  },
  {
   "cell_type": "code",
   "execution_count": 7,
   "metadata": {},
   "outputs": [],
   "source": [
    "df1['diff_att_pdistance'] = df['attacker_payload_distance1'] - df['attacker_payload_distance2']\n",
    "df1['diff_def_pdistance'] = df['defender_payload_distance1'] - df['defender_payload_distance2']\n",
    "df1['diff_att_time_b'] = df[ 'attacker_time_banked1'] - df['attacker_time_banked2'] \n",
    "df1['diff_def_time_b'] = df[ 'defender_time_banked1'] - df['defender_time_banked2'] \n",
    "df1['diff_att_control_p'] = df['defender_control_perecent1'] - df['attacker_control_perecent2']\n",
    "df1['diff_def_control_p'] = df['defender_control_perecent1']-df['defender_control_perecent2']"
   ]
  },
  {
   "cell_type": "markdown",
   "metadata": {},
   "source": [
    "* 시간별 정규화 안한거임. (어떤걸해야할지몰라서. 정규화하는 코드는 작성함, 변수만 선택하며됨)"
   ]
  },
  {
   "cell_type": "code",
   "execution_count": 8,
   "metadata": {},
   "outputs": [
    {
     "data": {
      "text/html": [
       "<div>\n",
       "<style scoped>\n",
       "    .dataframe tbody tr th:only-of-type {\n",
       "        vertical-align: middle;\n",
       "    }\n",
       "\n",
       "    .dataframe tbody tr th {\n",
       "        vertical-align: top;\n",
       "    }\n",
       "\n",
       "    .dataframe thead th {\n",
       "        text-align: right;\n",
       "    }\n",
       "</style>\n",
       "<table border=\"1\" class=\"dataframe\">\n",
       "  <thead>\n",
       "    <tr style=\"text-align: right;\">\n",
       "      <th></th>\n",
       "      <th>diff_att_pdistance</th>\n",
       "      <th>diff_def_pdistance</th>\n",
       "      <th>diff_att_time_b</th>\n",
       "      <th>diff_def_time_b</th>\n",
       "      <th>diff_att_control_p</th>\n",
       "      <th>diff_def_control_p</th>\n",
       "    </tr>\n",
       "  </thead>\n",
       "  <tbody>\n",
       "    <tr>\n",
       "      <th>0</th>\n",
       "      <td>0.034546</td>\n",
       "      <td>-75.615051</td>\n",
       "      <td>125.750572</td>\n",
       "      <td>240.000000</td>\n",
       "      <td>0.0</td>\n",
       "      <td>0.0</td>\n",
       "    </tr>\n",
       "    <tr>\n",
       "      <th>1</th>\n",
       "      <td>0.000000</td>\n",
       "      <td>0.000000</td>\n",
       "      <td>11.693085</td>\n",
       "      <td>-224.587952</td>\n",
       "      <td>0.0</td>\n",
       "      <td>0.0</td>\n",
       "    </tr>\n",
       "    <tr>\n",
       "      <th>2</th>\n",
       "      <td>0.000000</td>\n",
       "      <td>0.000000</td>\n",
       "      <td>0.000000</td>\n",
       "      <td>0.000000</td>\n",
       "      <td>0.0</td>\n",
       "      <td>-165.0</td>\n",
       "    </tr>\n",
       "    <tr>\n",
       "      <th>3</th>\n",
       "      <td>0.014160</td>\n",
       "      <td>-75.549507</td>\n",
       "      <td>165.840027</td>\n",
       "      <td>0.000000</td>\n",
       "      <td>0.0</td>\n",
       "      <td>0.0</td>\n",
       "    </tr>\n",
       "    <tr>\n",
       "      <th>4</th>\n",
       "      <td>0.017067</td>\n",
       "      <td>-70.161865</td>\n",
       "      <td>186.312805</td>\n",
       "      <td>240.000000</td>\n",
       "      <td>0.0</td>\n",
       "      <td>0.0</td>\n",
       "    </tr>\n",
       "  </tbody>\n",
       "</table>\n",
       "</div>"
      ],
      "text/plain": [
       "   diff_att_pdistance  diff_def_pdistance  diff_att_time_b  diff_def_time_b  \\\n",
       "0            0.034546          -75.615051       125.750572       240.000000   \n",
       "1            0.000000            0.000000        11.693085      -224.587952   \n",
       "2            0.000000            0.000000         0.000000         0.000000   \n",
       "3            0.014160          -75.549507       165.840027         0.000000   \n",
       "4            0.017067          -70.161865       186.312805       240.000000   \n",
       "\n",
       "   diff_att_control_p  diff_def_control_p  \n",
       "0                 0.0                 0.0  \n",
       "1                 0.0                 0.0  \n",
       "2                 0.0              -165.0  \n",
       "3                 0.0                 0.0  \n",
       "4                 0.0                 0.0  "
      ]
     },
     "execution_count": 8,
     "metadata": {},
     "output_type": "execute_result"
    }
   ],
   "source": [
    "df1.head()"
   ]
  },
  {
   "cell_type": "markdown",
   "metadata": {},
   "source": [
    "# target y  만들기"
   ]
  },
  {
   "cell_type": "markdown",
   "metadata": {},
   "source": [
    "* team one 승 1\n",
    "* team one 패 0"
   ]
  },
  {
   "cell_type": "code",
   "execution_count": 9,
   "metadata": {},
   "outputs": [],
   "source": [
    "target = []\n",
    "for i in range(len(df)):\n",
    "    if df.loc[i,'team_one_name'] == df.loc[i,'map_winner']:\n",
    "        target.append(1)\n",
    "    else:\n",
    "        target.append(0)"
   ]
  },
  {
   "cell_type": "code",
   "execution_count": 10,
   "metadata": {},
   "outputs": [],
   "source": [
    "df1['target'] = target"
   ]
  },
  {
   "cell_type": "code",
   "execution_count": 11,
   "metadata": {},
   "outputs": [
    {
     "data": {
      "text/html": [
       "<div>\n",
       "<style scoped>\n",
       "    .dataframe tbody tr th:only-of-type {\n",
       "        vertical-align: middle;\n",
       "    }\n",
       "\n",
       "    .dataframe tbody tr th {\n",
       "        vertical-align: top;\n",
       "    }\n",
       "\n",
       "    .dataframe thead th {\n",
       "        text-align: right;\n",
       "    }\n",
       "</style>\n",
       "<table border=\"1\" class=\"dataframe\">\n",
       "  <thead>\n",
       "    <tr style=\"text-align: right;\">\n",
       "      <th></th>\n",
       "      <th>diff_att_pdistance</th>\n",
       "      <th>diff_def_pdistance</th>\n",
       "      <th>diff_att_time_b</th>\n",
       "      <th>diff_def_time_b</th>\n",
       "      <th>diff_att_control_p</th>\n",
       "      <th>diff_def_control_p</th>\n",
       "      <th>target</th>\n",
       "    </tr>\n",
       "  </thead>\n",
       "  <tbody>\n",
       "    <tr>\n",
       "      <th>0</th>\n",
       "      <td>0.034546</td>\n",
       "      <td>-75.615051</td>\n",
       "      <td>125.750572</td>\n",
       "      <td>240.000000</td>\n",
       "      <td>0.0</td>\n",
       "      <td>0.0</td>\n",
       "      <td>1</td>\n",
       "    </tr>\n",
       "    <tr>\n",
       "      <th>1</th>\n",
       "      <td>0.000000</td>\n",
       "      <td>0.000000</td>\n",
       "      <td>11.693085</td>\n",
       "      <td>-224.587952</td>\n",
       "      <td>0.0</td>\n",
       "      <td>0.0</td>\n",
       "      <td>1</td>\n",
       "    </tr>\n",
       "    <tr>\n",
       "      <th>2</th>\n",
       "      <td>0.000000</td>\n",
       "      <td>0.000000</td>\n",
       "      <td>0.000000</td>\n",
       "      <td>0.000000</td>\n",
       "      <td>0.0</td>\n",
       "      <td>-165.0</td>\n",
       "      <td>1</td>\n",
       "    </tr>\n",
       "    <tr>\n",
       "      <th>3</th>\n",
       "      <td>0.014160</td>\n",
       "      <td>-75.549507</td>\n",
       "      <td>165.840027</td>\n",
       "      <td>0.000000</td>\n",
       "      <td>0.0</td>\n",
       "      <td>0.0</td>\n",
       "      <td>1</td>\n",
       "    </tr>\n",
       "    <tr>\n",
       "      <th>4</th>\n",
       "      <td>0.017067</td>\n",
       "      <td>-70.161865</td>\n",
       "      <td>186.312805</td>\n",
       "      <td>240.000000</td>\n",
       "      <td>0.0</td>\n",
       "      <td>0.0</td>\n",
       "      <td>1</td>\n",
       "    </tr>\n",
       "  </tbody>\n",
       "</table>\n",
       "</div>"
      ],
      "text/plain": [
       "   diff_att_pdistance  diff_def_pdistance  diff_att_time_b  diff_def_time_b  \\\n",
       "0            0.034546          -75.615051       125.750572       240.000000   \n",
       "1            0.000000            0.000000        11.693085      -224.587952   \n",
       "2            0.000000            0.000000         0.000000         0.000000   \n",
       "3            0.014160          -75.549507       165.840027         0.000000   \n",
       "4            0.017067          -70.161865       186.312805       240.000000   \n",
       "\n",
       "   diff_att_control_p  diff_def_control_p  target  \n",
       "0                 0.0                 0.0       1  \n",
       "1                 0.0                 0.0       1  \n",
       "2                 0.0              -165.0       1  \n",
       "3                 0.0                 0.0       1  \n",
       "4                 0.0                 0.0       1  "
      ]
     },
     "execution_count": 11,
     "metadata": {},
     "output_type": "execute_result"
    }
   ],
   "source": [
    "df1.head()"
   ]
  },
  {
   "cell_type": "code",
   "execution_count": 25,
   "metadata": {},
   "outputs": [
    {
     "data": {
      "text/plain": [
       "0    2000\n",
       "1    1632\n",
       "Name: target, dtype: int64"
      ]
     },
     "execution_count": 25,
     "metadata": {},
     "output_type": "execute_result"
    }
   ],
   "source": [
    "df1['target'].value_counts()"
   ]
  },
  {
   "cell_type": "code",
   "execution_count": 30,
   "metadata": {},
   "outputs": [
    {
     "data": {
      "text/plain": [
       "Text(0, 0.5, 'map game count')"
      ]
     },
     "execution_count": 30,
     "metadata": {},
     "output_type": "execute_result"
    },
    {
     "data": {
      "image/png": "[encoded data removed]",
      "text/plain": [
       "<Figure size 432x288 with 1 Axes>"
      ]
     },
     "metadata": {
      "needs_background": "light"
     },
     "output_type": "display_data"
    }
   ],
   "source": [
    "plt.bar(['team one lose','team one win'],df1['target'].value_counts())\n",
    "plt.xlabel('target')\n",
    "plt.ylabel('map game count')"
   ]
  },
  {
   "cell_type": "code",
   "execution_count": 14,
   "metadata": {},
   "outputs": [],
   "source": [
    "#df1.to_csv('data/e-sprot_data.csv',index=False)"
   ]
  },
  {
   "cell_type": "markdown",
   "metadata": {},
   "source": [
    "* 실시간 승률 예측"
   ]
  },
  {
   "cell_type": "code",
   "execution_count": null,
   "metadata": {},
   "outputs": [],
   "source": []
  }
 ],
 "metadata": {
  "kernelspec": {
   "display_name": "Python 3",
   "language": "python",
   "name": "python3"
  },
  "language_info": {
   "codemirror_mode": {
    "name": "ipython",
    "version": 3
   },
   "file_extension": ".py",
   "mimetype": "text/x-python",
   "name": "python",
   "nbconvert_exporter": "python",
   "pygments_lexer": "ipython3",
   "version": "3.7.6"
  }
 },
 "nbformat": 4,
 "nbformat_minor": 4
}
