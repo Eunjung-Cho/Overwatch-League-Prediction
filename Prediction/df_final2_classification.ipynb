{
  "nbformat": 4,
  "nbformat_minor": 0,
  "metadata": {
    "colab": {
      "name": "df_final2_classification",
      "provenance": [],
      "collapsed_sections": [],
      "include_colab_link": true
    },
    "kernelspec": {
      "name": "python3",
      "display_name": "Python 3"
    },
    "language_info": {
      "name": "python"
    }
  },
  "cells": [
    {
      "cell_type": "markdown",
      "metadata": {
        "id": "view-in-github",
        "colab_type": "text"
      },
      "source": [
        "<a href=\"https://colab.research.google.com/github/hijyun/Overwatch-League-Prediction/blob/main/Prediction/df_final2_classification.ipynb\" target=\"_parent\"><img src=\"https://colab.research.google.com/assets/colab-badge.svg\" alt=\"Open In Colab\"/></a>"
      ]
    },
    {
      "cell_type": "markdown",
      "metadata": {
        "id": "KPJ5cnz4e7h3"
      },
      "source": [
        "# 기본 패키지 설정"
      ]
    },
    {
      "cell_type": "code",
      "metadata": {
        "id": "tMsJfrg0e1aD"
      },
      "source": [
        "import numpy as np\n",
        "import matplotlib.pyplot as plt\n",
        "import collections\n",
        "import pandas as pd\n",
        "from sklearn import datasets\n",
        "\n",
        "from sklearn.model_selection import train_test_split\n",
        "\n",
        "from sklearn.tree import DecisionTreeClassifier # 결정 트리\n",
        "from sklearn.neighbors import KNeighborsClassifier # KNN\n",
        "from sklearn.linear_model import LogisticRegression # 로지스틱 회귀\n",
        "\n",
        "from sklearn.ensemble import VotingClassifier,RandomForestClassifier,AdaBoostClassifier,GradientBoostingClassifier # 앙상블 \n",
        "\n",
        "from sklearn.metrics import confusion_matrix, classification_report # 정오분류표\n",
        "from sklearn.metrics import accuracy_score, precision_score, recall_score, f1_score, roc_auc_score \n",
        "from sklearn.metrics import roc_curve, auc, roc_auc_score  # ROC곡선 그리기\n",
        "\n",
        "from sklearn.model_selection import learning_curve, validation_curve # 학습곡선, 검증곡선\n",
        "from sklearn.model_selection import GridSearchCV, cross_val_score  # 하이퍼파라미터 튜닝, 교차타당도"
      ],
      "execution_count": 6,
      "outputs": []
    },
    {
      "cell_type": "code",
      "metadata": {
        "id": "pOkvWlMRTO5-"
      },
      "source": [
        "from lightgbm import LGBMClassifier\n",
        "from xgboost import XGBClassifier"
      ],
      "execution_count": 7,
      "outputs": []
    },
    {
      "cell_type": "markdown",
      "metadata": {
        "id": "sa9qupW1gYdv"
      },
      "source": [
        "# 데이터 읽기"
      ]
    },
    {
      "cell_type": "code",
      "metadata": {
        "id": "uKtf41efMSE1"
      },
      "source": [
        "df1 = pd.read_csv('https://raw.githubusercontent.com/hijyun/Overwatch-League-Prediction/main/preprocessing/df_final2.csv')"
      ],
      "execution_count": 8,
      "outputs": []
    },
    {
      "cell_type": "code",
      "metadata": {
        "colab": {
          "base_uri": "https://localhost:8080/",
          "height": 350
        },
        "id": "_7wCmUI4mCNC",
        "outputId": "cf75e28e-d78a-4b23-ebbc-da89444aaea3"
      },
      "source": [
        "df1.head()"
      ],
      "execution_count": 9,
      "outputs": [
        {
          "output_type": "execute_result",
          "data": {
            "text/html": [
              "<div>\n",
              "<style scoped>\n",
              "    .dataframe tbody tr th:only-of-type {\n",
              "        vertical-align: middle;\n",
              "    }\n",
              "\n",
              "    .dataframe tbody tr th {\n",
              "        vertical-align: top;\n",
              "    }\n",
              "\n",
              "    .dataframe thead th {\n",
              "        text-align: right;\n",
              "    }\n",
              "</style>\n",
              "<table border=\"1\" class=\"dataframe\">\n",
              "  <thead>\n",
              "    <tr style=\"text-align: right;\">\n",
              "      <th></th>\n",
              "      <th>Unnamed: 0</th>\n",
              "      <th>esports_match_id</th>\n",
              "      <th>map_name</th>\n",
              "      <th>team_name</th>\n",
              "      <th>win</th>\n",
              "      <th>Damage</th>\n",
              "      <th>Healing</th>\n",
              "      <th>Kill</th>\n",
              "      <th>Death</th>\n",
              "      <th>Barrier</th>\n",
              "      <th>Eliminations</th>\n",
              "      <th>Final Blows</th>\n",
              "      <th>Healing Received</th>\n",
              "      <th>Damage Blocked</th>\n",
              "      <th>Damage Taken</th>\n",
              "      <th>Ultimates Earned - Fractional</th>\n",
              "      <th>Ultimates Negated</th>\n",
              "      <th>Ultimates Used</th>\n",
              "      <th>Assists</th>\n",
              "      <th>Defensive Assists</th>\n",
              "      <th>Offensive Assists</th>\n",
              "      <th>Time Played</th>\n",
              "    </tr>\n",
              "  </thead>\n",
              "  <tbody>\n",
              "    <tr>\n",
              "      <th>0</th>\n",
              "      <td>0</td>\n",
              "      <td>30991</td>\n",
              "      <td>Eichenwalde</td>\n",
              "      <td>Paris Eternal</td>\n",
              "      <td>0</td>\n",
              "      <td>562240.779110</td>\n",
              "      <td>102994.122865</td>\n",
              "      <td>210.0</td>\n",
              "      <td>106.0</td>\n",
              "      <td>93901.40980</td>\n",
              "      <td>262</td>\n",
              "      <td>86</td>\n",
              "      <td>34021.82845</td>\n",
              "      <td>143348.93450</td>\n",
              "      <td>107667.45130</td>\n",
              "      <td>101.710336</td>\n",
              "      <td>0.0</td>\n",
              "      <td>72</td>\n",
              "      <td>170.0</td>\n",
              "      <td>90.0</td>\n",
              "      <td>86.0</td>\n",
              "      <td>11785.838170</td>\n",
              "    </tr>\n",
              "    <tr>\n",
              "      <th>1</th>\n",
              "      <td>1</td>\n",
              "      <td>30991</td>\n",
              "      <td>Eichenwalde</td>\n",
              "      <td>Toronto Defiant</td>\n",
              "      <td>1</td>\n",
              "      <td>628126.701027</td>\n",
              "      <td>119825.020513</td>\n",
              "      <td>313.0</td>\n",
              "      <td>102.0</td>\n",
              "      <td>143348.93450</td>\n",
              "      <td>322</td>\n",
              "      <td>102</td>\n",
              "      <td>41520.14098</td>\n",
              "      <td>127360.63980</td>\n",
              "      <td>121061.94270</td>\n",
              "      <td>102.592067</td>\n",
              "      <td>0.0</td>\n",
              "      <td>94</td>\n",
              "      <td>218.0</td>\n",
              "      <td>78.0</td>\n",
              "      <td>114.0</td>\n",
              "      <td>11785.838170</td>\n",
              "    </tr>\n",
              "    <tr>\n",
              "      <th>2</th>\n",
              "      <td>2</td>\n",
              "      <td>30991</td>\n",
              "      <td>Havana</td>\n",
              "      <td>Paris Eternal</td>\n",
              "      <td>0</td>\n",
              "      <td>369505.598781</td>\n",
              "      <td>69563.366620</td>\n",
              "      <td>138.0</td>\n",
              "      <td>118.0</td>\n",
              "      <td>49429.29399</td>\n",
              "      <td>156</td>\n",
              "      <td>56</td>\n",
              "      <td>22974.73930</td>\n",
              "      <td>88845.75708</td>\n",
              "      <td>84555.76886</td>\n",
              "      <td>66.336034</td>\n",
              "      <td>0.0</td>\n",
              "      <td>58</td>\n",
              "      <td>98.0</td>\n",
              "      <td>52.0</td>\n",
              "      <td>62.0</td>\n",
              "      <td>8631.732713</td>\n",
              "    </tr>\n",
              "    <tr>\n",
              "      <th>3</th>\n",
              "      <td>3</td>\n",
              "      <td>30991</td>\n",
              "      <td>Havana</td>\n",
              "      <td>Toronto Defiant</td>\n",
              "      <td>1</td>\n",
              "      <td>438383.607557</td>\n",
              "      <td>78776.610181</td>\n",
              "      <td>337.0</td>\n",
              "      <td>60.0</td>\n",
              "      <td>88845.75709</td>\n",
              "      <td>344</td>\n",
              "      <td>118</td>\n",
              "      <td>28430.25998</td>\n",
              "      <td>63075.42223</td>\n",
              "      <td>85702.02986</td>\n",
              "      <td>78.189298</td>\n",
              "      <td>1.0</td>\n",
              "      <td>72</td>\n",
              "      <td>226.0</td>\n",
              "      <td>108.0</td>\n",
              "      <td>98.0</td>\n",
              "      <td>8631.732713</td>\n",
              "    </tr>\n",
              "    <tr>\n",
              "      <th>4</th>\n",
              "      <td>4</td>\n",
              "      <td>30991</td>\n",
              "      <td>Horizon Lunar Colony</td>\n",
              "      <td>Paris Eternal</td>\n",
              "      <td>0</td>\n",
              "      <td>438116.899123</td>\n",
              "      <td>90377.982786</td>\n",
              "      <td>207.0</td>\n",
              "      <td>92.0</td>\n",
              "      <td>57440.94655</td>\n",
              "      <td>294</td>\n",
              "      <td>98</td>\n",
              "      <td>28632.82346</td>\n",
              "      <td>87504.85590</td>\n",
              "      <td>92947.47734</td>\n",
              "      <td>78.837408</td>\n",
              "      <td>0.0</td>\n",
              "      <td>60</td>\n",
              "      <td>196.0</td>\n",
              "      <td>110.0</td>\n",
              "      <td>114.0</td>\n",
              "      <td>9881.643794</td>\n",
              "    </tr>\n",
              "  </tbody>\n",
              "</table>\n",
              "</div>"
            ],
            "text/plain": [
              "   Unnamed: 0  esports_match_id  ... Offensive Assists   Time Played\n",
              "0           0             30991  ...              86.0  11785.838170\n",
              "1           1             30991  ...             114.0  11785.838170\n",
              "2           2             30991  ...              62.0   8631.732713\n",
              "3           3             30991  ...              98.0   8631.732713\n",
              "4           4             30991  ...             114.0   9881.643794\n",
              "\n",
              "[5 rows x 22 columns]"
            ]
          },
          "metadata": {
            "tags": []
          },
          "execution_count": 9
        }
      ]
    },
    {
      "cell_type": "code",
      "metadata": {
        "id": "bSyK89_qOsbC"
      },
      "source": [
        "X = df1.drop(['win','map_name','esports_match_id','Unnamed: 0','team_name'], axis=1)\n",
        "y = df1['win']"
      ],
      "execution_count": 10,
      "outputs": []
    },
    {
      "cell_type": "code",
      "metadata": {
        "id": "9_T6KEurhur_",
        "colab": {
          "base_uri": "https://localhost:8080/"
        },
        "outputId": "f68982fd-5163-444c-dbb5-a2e6fc6ef691"
      },
      "source": [
        "df1.shape"
      ],
      "execution_count": 11,
      "outputs": [
        {
          "output_type": "execute_result",
          "data": {
            "text/plain": [
              "(2246, 22)"
            ]
          },
          "metadata": {
            "tags": []
          },
          "execution_count": 11
        }
      ]
    },
    {
      "cell_type": "code",
      "metadata": {
        "id": "g9R9SC-P3Fcz",
        "colab": {
          "base_uri": "https://localhost:8080/",
          "height": 350
        },
        "outputId": "8b9f45c5-43ff-4f76-9dbe-6cad05d2df77"
      },
      "source": [
        "df1.head()"
      ],
      "execution_count": 12,
      "outputs": [
        {
          "output_type": "execute_result",
          "data": {
            "text/html": [
              "<div>\n",
              "<style scoped>\n",
              "    .dataframe tbody tr th:only-of-type {\n",
              "        vertical-align: middle;\n",
              "    }\n",
              "\n",
              "    .dataframe tbody tr th {\n",
              "        vertical-align: top;\n",
              "    }\n",
              "\n",
              "    .dataframe thead th {\n",
              "        text-align: right;\n",
              "    }\n",
              "</style>\n",
              "<table border=\"1\" class=\"dataframe\">\n",
              "  <thead>\n",
              "    <tr style=\"text-align: right;\">\n",
              "      <th></th>\n",
              "      <th>Unnamed: 0</th>\n",
              "      <th>esports_match_id</th>\n",
              "      <th>map_name</th>\n",
              "      <th>team_name</th>\n",
              "      <th>win</th>\n",
              "      <th>Damage</th>\n",
              "      <th>Healing</th>\n",
              "      <th>Kill</th>\n",
              "      <th>Death</th>\n",
              "      <th>Barrier</th>\n",
              "      <th>Eliminations</th>\n",
              "      <th>Final Blows</th>\n",
              "      <th>Healing Received</th>\n",
              "      <th>Damage Blocked</th>\n",
              "      <th>Damage Taken</th>\n",
              "      <th>Ultimates Earned - Fractional</th>\n",
              "      <th>Ultimates Negated</th>\n",
              "      <th>Ultimates Used</th>\n",
              "      <th>Assists</th>\n",
              "      <th>Defensive Assists</th>\n",
              "      <th>Offensive Assists</th>\n",
              "      <th>Time Played</th>\n",
              "    </tr>\n",
              "  </thead>\n",
              "  <tbody>\n",
              "    <tr>\n",
              "      <th>0</th>\n",
              "      <td>0</td>\n",
              "      <td>30991</td>\n",
              "      <td>Eichenwalde</td>\n",
              "      <td>Paris Eternal</td>\n",
              "      <td>0</td>\n",
              "      <td>562240.779110</td>\n",
              "      <td>102994.122865</td>\n",
              "      <td>210.0</td>\n",
              "      <td>106.0</td>\n",
              "      <td>93901.40980</td>\n",
              "      <td>262</td>\n",
              "      <td>86</td>\n",
              "      <td>34021.82845</td>\n",
              "      <td>143348.93450</td>\n",
              "      <td>107667.45130</td>\n",
              "      <td>101.710336</td>\n",
              "      <td>0.0</td>\n",
              "      <td>72</td>\n",
              "      <td>170.0</td>\n",
              "      <td>90.0</td>\n",
              "      <td>86.0</td>\n",
              "      <td>11785.838170</td>\n",
              "    </tr>\n",
              "    <tr>\n",
              "      <th>1</th>\n",
              "      <td>1</td>\n",
              "      <td>30991</td>\n",
              "      <td>Eichenwalde</td>\n",
              "      <td>Toronto Defiant</td>\n",
              "      <td>1</td>\n",
              "      <td>628126.701027</td>\n",
              "      <td>119825.020513</td>\n",
              "      <td>313.0</td>\n",
              "      <td>102.0</td>\n",
              "      <td>143348.93450</td>\n",
              "      <td>322</td>\n",
              "      <td>102</td>\n",
              "      <td>41520.14098</td>\n",
              "      <td>127360.63980</td>\n",
              "      <td>121061.94270</td>\n",
              "      <td>102.592067</td>\n",
              "      <td>0.0</td>\n",
              "      <td>94</td>\n",
              "      <td>218.0</td>\n",
              "      <td>78.0</td>\n",
              "      <td>114.0</td>\n",
              "      <td>11785.838170</td>\n",
              "    </tr>\n",
              "    <tr>\n",
              "      <th>2</th>\n",
              "      <td>2</td>\n",
              "      <td>30991</td>\n",
              "      <td>Havana</td>\n",
              "      <td>Paris Eternal</td>\n",
              "      <td>0</td>\n",
              "      <td>369505.598781</td>\n",
              "      <td>69563.366620</td>\n",
              "      <td>138.0</td>\n",
              "      <td>118.0</td>\n",
              "      <td>49429.29399</td>\n",
              "      <td>156</td>\n",
              "      <td>56</td>\n",
              "      <td>22974.73930</td>\n",
              "      <td>88845.75708</td>\n",
              "      <td>84555.76886</td>\n",
              "      <td>66.336034</td>\n",
              "      <td>0.0</td>\n",
              "      <td>58</td>\n",
              "      <td>98.0</td>\n",
              "      <td>52.0</td>\n",
              "      <td>62.0</td>\n",
              "      <td>8631.732713</td>\n",
              "    </tr>\n",
              "    <tr>\n",
              "      <th>3</th>\n",
              "      <td>3</td>\n",
              "      <td>30991</td>\n",
              "      <td>Havana</td>\n",
              "      <td>Toronto Defiant</td>\n",
              "      <td>1</td>\n",
              "      <td>438383.607557</td>\n",
              "      <td>78776.610181</td>\n",
              "      <td>337.0</td>\n",
              "      <td>60.0</td>\n",
              "      <td>88845.75709</td>\n",
              "      <td>344</td>\n",
              "      <td>118</td>\n",
              "      <td>28430.25998</td>\n",
              "      <td>63075.42223</td>\n",
              "      <td>85702.02986</td>\n",
              "      <td>78.189298</td>\n",
              "      <td>1.0</td>\n",
              "      <td>72</td>\n",
              "      <td>226.0</td>\n",
              "      <td>108.0</td>\n",
              "      <td>98.0</td>\n",
              "      <td>8631.732713</td>\n",
              "    </tr>\n",
              "    <tr>\n",
              "      <th>4</th>\n",
              "      <td>4</td>\n",
              "      <td>30991</td>\n",
              "      <td>Horizon Lunar Colony</td>\n",
              "      <td>Paris Eternal</td>\n",
              "      <td>0</td>\n",
              "      <td>438116.899123</td>\n",
              "      <td>90377.982786</td>\n",
              "      <td>207.0</td>\n",
              "      <td>92.0</td>\n",
              "      <td>57440.94655</td>\n",
              "      <td>294</td>\n",
              "      <td>98</td>\n",
              "      <td>28632.82346</td>\n",
              "      <td>87504.85590</td>\n",
              "      <td>92947.47734</td>\n",
              "      <td>78.837408</td>\n",
              "      <td>0.0</td>\n",
              "      <td>60</td>\n",
              "      <td>196.0</td>\n",
              "      <td>110.0</td>\n",
              "      <td>114.0</td>\n",
              "      <td>9881.643794</td>\n",
              "    </tr>\n",
              "  </tbody>\n",
              "</table>\n",
              "</div>"
            ],
            "text/plain": [
              "   Unnamed: 0  esports_match_id  ... Offensive Assists   Time Played\n",
              "0           0             30991  ...              86.0  11785.838170\n",
              "1           1             30991  ...             114.0  11785.838170\n",
              "2           2             30991  ...              62.0   8631.732713\n",
              "3           3             30991  ...              98.0   8631.732713\n",
              "4           4             30991  ...             114.0   9881.643794\n",
              "\n",
              "[5 rows x 22 columns]"
            ]
          },
          "metadata": {
            "tags": []
          },
          "execution_count": 12
        }
      ]
    },
    {
      "cell_type": "code",
      "metadata": {
        "colab": {
          "base_uri": "https://localhost:8080/"
        },
        "id": "04iYHSxK8Khd",
        "outputId": "a076feda-8bde-455c-ac67-7898d1a3a7d0"
      },
      "source": [
        "df1.info()"
      ],
      "execution_count": 13,
      "outputs": [
        {
          "output_type": "stream",
          "text": [
            "<class 'pandas.core.frame.DataFrame'>\n",
            "RangeIndex: 2246 entries, 0 to 2245\n",
            "Data columns (total 22 columns):\n",
            " #   Column                         Non-Null Count  Dtype  \n",
            "---  ------                         --------------  -----  \n",
            " 0   Unnamed: 0                     2246 non-null   int64  \n",
            " 1   esports_match_id               2246 non-null   int64  \n",
            " 2   map_name                       2246 non-null   object \n",
            " 3   team_name                      2246 non-null   object \n",
            " 4   win                            2246 non-null   int64  \n",
            " 5   Damage                         2246 non-null   float64\n",
            " 6   Healing                        2246 non-null   float64\n",
            " 7   Kill                           2246 non-null   float64\n",
            " 8   Death                          2246 non-null   float64\n",
            " 9   Barrier                        2246 non-null   float64\n",
            " 10  Eliminations                   2246 non-null   int64  \n",
            " 11  Final Blows                    2246 non-null   int64  \n",
            " 12  Healing Received               2246 non-null   float64\n",
            " 13  Damage Blocked                 2246 non-null   float64\n",
            " 14  Damage Taken                   2246 non-null   float64\n",
            " 15  Ultimates Earned - Fractional  2246 non-null   float64\n",
            " 16  Ultimates Negated              2246 non-null   float64\n",
            " 17  Ultimates Used                 2246 non-null   int64  \n",
            " 18  Assists                        2246 non-null   float64\n",
            " 19  Defensive Assists              2246 non-null   float64\n",
            " 20  Offensive Assists              2246 non-null   float64\n",
            " 21  Time Played                    2246 non-null   float64\n",
            "dtypes: float64(14), int64(6), object(2)\n",
            "memory usage: 386.2+ KB\n"
          ],
          "name": "stdout"
        }
      ]
    },
    {
      "cell_type": "code",
      "metadata": {
        "colab": {
          "base_uri": "https://localhost:8080/"
        },
        "id": "X4d3rOFpmq48",
        "outputId": "2d505980-167b-4af9-c190-3b5bcf4ed625"
      },
      "source": [
        "X.info()"
      ],
      "execution_count": 14,
      "outputs": [
        {
          "output_type": "stream",
          "text": [
            "<class 'pandas.core.frame.DataFrame'>\n",
            "RangeIndex: 2246 entries, 0 to 2245\n",
            "Data columns (total 17 columns):\n",
            " #   Column                         Non-Null Count  Dtype  \n",
            "---  ------                         --------------  -----  \n",
            " 0   Damage                         2246 non-null   float64\n",
            " 1   Healing                        2246 non-null   float64\n",
            " 2   Kill                           2246 non-null   float64\n",
            " 3   Death                          2246 non-null   float64\n",
            " 4   Barrier                        2246 non-null   float64\n",
            " 5   Eliminations                   2246 non-null   int64  \n",
            " 6   Final Blows                    2246 non-null   int64  \n",
            " 7   Healing Received               2246 non-null   float64\n",
            " 8   Damage Blocked                 2246 non-null   float64\n",
            " 9   Damage Taken                   2246 non-null   float64\n",
            " 10  Ultimates Earned - Fractional  2246 non-null   float64\n",
            " 11  Ultimates Negated              2246 non-null   float64\n",
            " 12  Ultimates Used                 2246 non-null   int64  \n",
            " 13  Assists                        2246 non-null   float64\n",
            " 14  Defensive Assists              2246 non-null   float64\n",
            " 15  Offensive Assists              2246 non-null   float64\n",
            " 16  Time Played                    2246 non-null   float64\n",
            "dtypes: float64(14), int64(3)\n",
            "memory usage: 298.4 KB\n"
          ],
          "name": "stdout"
        }
      ]
    },
    {
      "cell_type": "markdown",
      "metadata": {
        "id": "UQJW-Bm_8kFs"
      },
      "source": [
        "# 전처리 및 데이터 분할"
      ]
    },
    {
      "cell_type": "code",
      "metadata": {
        "id": "5BdZ1JPj8Lji"
      },
      "source": [
        "from sklearn.preprocessing import LabelEncoder\n",
        "\n",
        "le = LabelEncoder()       # 범주형 변수를 0부터 시작하는 정수형 숫자로 변환\n",
        "y = le.fit_transform(y)   \n"
      ],
      "execution_count": 15,
      "outputs": []
    },
    {
      "cell_type": "code",
      "metadata": {
        "colab": {
          "base_uri": "https://localhost:8080/"
        },
        "id": "Is1cn1Q-Bqel",
        "outputId": "f2e90434-e562-4a2a-d45f-8faf36a61aae"
      },
      "source": [
        "y"
      ],
      "execution_count": 16,
      "outputs": [
        {
          "output_type": "execute_result",
          "data": {
            "text/plain": [
              "array([0, 1, 0, ..., 1, 0, 1])"
            ]
          },
          "metadata": {
            "tags": []
          },
          "execution_count": 16
        }
      ]
    },
    {
      "cell_type": "markdown",
      "metadata": {
        "id": "OHEKpWiV_Y9Q"
      },
      "source": [
        "## train data , test data split"
      ]
    },
    {
      "cell_type": "code",
      "metadata": {
        "id": "4q0qz4Xc-AfR"
      },
      "source": [
        "X_train, X_test, y_train, y_test = train_test_split(X,y, test_size=0.3, random_state=100, stratify=y)"
      ],
      "execution_count": 17,
      "outputs": []
    },
    {
      "cell_type": "markdown",
      "metadata": {
        "id": "-9EDGVvd-GAx"
      },
      "source": [
        "# 모델"
      ]
    },
    {
      "cell_type": "code",
      "metadata": {
        "id": "O2miBjoW-Eu2"
      },
      "source": [
        "logistic = LogisticRegression(solver='liblinear',penalty='l2',C= 0.1,random_state=1)\n",
        "tree = DecisionTreeClassifier(max_depth=4,criterion='entropy',random_state=1)\n",
        "knn = KNeighborsClassifier(n_neighbors=4,p=2,metric='minkowski')\n",
        "\n",
        "voting_estimators = [('logistic', logistic), ('tree', tree), ('knn', knn)]\n",
        "\n",
        "voting = VotingClassifier(estimators = voting_estimators,voting='soft')\n",
        "\n",
        "forest = RandomForestClassifier(criterion='entropy',n_estimators=700,random_state=1)\n",
        "lgb = LGBMClassifier(random_state=42)\n",
        "xgb = XGBClassifier(tree_method='hist',random_state=41)\n",
        "\n",
        "adaboost = AdaBoostClassifier(base_estimator=tree, \n",
        "                                n_estimators=100,\n",
        "                                learning_rate = 0.01, \n",
        "                                random_state=42)\n",
        "clf_labels = ['Logistic regression', 'Decision tree',  'Majority voting','Random forest','Ada boost','XGB','LIGHTGBM',\"KNN\"]\n",
        "\n",
        "all_clf = [logistic, tree, voting, forest,adaboost,xgb,lgb,knn]"
      ],
      "execution_count": 34,
      "outputs": []
    },
    {
      "cell_type": "markdown",
      "metadata": {
        "id": "s-y2wJXhHQ9E"
      },
      "source": [
        "### AUC 검정"
      ]
    },
    {
      "cell_type": "code",
      "metadata": {
        "colab": {
          "base_uri": "https://localhost:8080/"
        },
        "id": "VG4xWnLPHPvt",
        "outputId": "abe95597-5391-48f5-e7d4-74fcaa241edd"
      },
      "source": [
        "for clf, label in zip(all_clf, clf_labels):\n",
        "  scores = cross_val_score(estimator=clf,X=X_train,y=y_train,cv=10,scoring='roc_auc')\n",
        "  print(\"ROC AUC: %0.3f (+/- %0.3f) [%s]\"\n",
        "  % (scores.mean(), scores.std(), label))"
      ],
      "execution_count": null,
      "outputs": [
        {
          "output_type": "stream",
          "text": [
            "ROC AUC: 0.967 (+/- 0.011) [Logistic regression]\n",
            "ROC AUC: 0.954 (+/- 0.011) [Decision tree]\n",
            "ROC AUC: 0.967 (+/- 0.011) [Majority voting]\n"
          ],
          "name": "stdout"
        }
      ]
    },
    {
      "cell_type": "markdown",
      "metadata": {
        "id": "NlFBV-_dKdKd"
      },
      "source": [
        "### ROC 커브"
      ]
    },
    {
      "cell_type": "code",
      "metadata": {
        "colab": {
          "base_uri": "https://localhost:8080/",
          "height": 279
        },
        "id": "Tz_TkkMbIQT6",
        "outputId": "c7278536-66d4-48dd-99e4-d3644536cfdf"
      },
      "source": [
        "colors = ['black', 'orange', 'blue', 'green','red','gray','skyblue']\n",
        "linestyles = [':', '--', '-.', '-','solid','dashdot','dotted']\n",
        "for clf, label, clr, ls \\\n",
        "        in zip(all_clf, clf_labels, colors, linestyles):\n",
        "\n",
        "  clf.fit(X_train, y_train)\n",
        "  y_pred = clf.predict_proba(X_test)[:, 1]\n",
        "  fpr, tpr, thresholds = roc_curve(y_true=y_test,\n",
        "                                  y_score=y_pred)\n",
        "  roc_auc = auc(x=fpr, y=tpr) # 교차검증 X\n",
        "  plt.plot(fpr, tpr,\n",
        "            color=clr,\n",
        "            linestyle=ls,\n",
        "            label='%s (auc = %0.3f)' % (label, roc_auc))\n",
        "  \n",
        "plt.legend(loc='lower right')\n",
        "plt.plot([0, 1], [0, 1],\n",
        "          linestyle='--',\n",
        "          color='gray',\n",
        "          linewidth=2)\n",
        "\n",
        "plt.xlim([-0.1, 1.1])\n",
        "plt.ylim([-0.1, 1.1])\n",
        "plt.grid(alpha=0.5)\n",
        "plt.xlabel('False positive rate (FPR)')\n",
        "plt.ylabel('True positive rate (TPR)')\n",
        "\n",
        "plt.show()"
      ],
      "execution_count": 20,
      "outputs": [
        {
          "output_type": "display_data",
          "data": {
            "image/png": "[encoded data removed]",
            "text/plain": [
              "<Figure size 432x288 with 1 Axes>"
            ]
          },
          "metadata": {
            "tags": [],
            "needs_background": "light"
          }
        }
      ]
    },
    {
      "cell_type": "markdown",
      "metadata": {
        "id": "aB-V1ksqJAQ2"
      },
      "source": [
        "### 정오 분류표로 검정"
      ]
    },
    {
      "cell_type": "markdown",
      "metadata": {
        "id": "wOpOTRmHWRnx"
      },
      "source": [
        "## voting"
      ]
    },
    {
      "cell_type": "code",
      "metadata": {
        "colab": {
          "base_uri": "https://localhost:8080/"
        },
        "id": "1D-SUH9zI_t7",
        "outputId": "81c75f6f-d518-4c75-97f3-be6b109b417e"
      },
      "source": [
        "voting.fit(X_train, y_train)\n",
        "y_pred = voting.predict(X_test)\n",
        "\n",
        "print('잘못 분류된 샘플 개수: %d' % (y_test != y_pred).sum())\n",
        "print('정확도: %.3f' % accuracy_score(y_test, y_pred))\n",
        "print('정밀도: %.3f' % precision_score(y_true=y_test, y_pred=y_pred))\n",
        "print('재현율: %.3f' % recall_score(y_true=y_test, y_pred=y_pred))\n",
        "print('F1: %.3f' % f1_score(y_true=y_test, y_pred=y_pred))"
      ],
      "execution_count": 21,
      "outputs": [
        {
          "output_type": "stream",
          "text": [
            "잘못 분류된 샘플 개수: 71\n",
            "정확도: 0.895\n",
            "정밀도: 0.901\n",
            "재현율: 0.887\n",
            "F1: 0.894\n"
          ],
          "name": "stdout"
        }
      ]
    },
    {
      "cell_type": "markdown",
      "metadata": {
        "id": "KcQltlnXC-KI"
      },
      "source": [
        "# 모수 튜닝"
      ]
    },
    {
      "cell_type": "markdown",
      "metadata": {
        "id": "R98JB9-bDGLq"
      },
      "source": [
        "## voting"
      ]
    },
    {
      "cell_type": "code",
      "metadata": {
        "colab": {
          "base_uri": "https://localhost:8080/"
        },
        "id": "RhNufHhzC-_o",
        "outputId": "29e0c8a1-4d74-4ece-86db-9194bfc2cc1c"
      },
      "source": [
        "voting.get_params()"
      ],
      "execution_count": 22,
      "outputs": [
        {
          "output_type": "execute_result",
          "data": {
            "text/plain": [
              "{'estimators': [('logistic',\n",
              "   LogisticRegression(C=0.1, class_weight=None, dual=False, fit_intercept=True,\n",
              "                      intercept_scaling=1, l1_ratio=None, max_iter=100,\n",
              "                      multi_class='auto', n_jobs=None, penalty='l2',\n",
              "                      random_state=1, solver='liblinear', tol=0.0001, verbose=0,\n",
              "                      warm_start=False)),\n",
              "  ('tree',\n",
              "   DecisionTreeClassifier(ccp_alpha=0.0, class_weight=None, criterion='entropy',\n",
              "                          max_depth=4, max_features=None, max_leaf_nodes=None,\n",
              "                          min_impurity_decrease=0.0, min_impurity_split=None,\n",
              "                          min_samples_leaf=1, min_samples_split=2,\n",
              "                          min_weight_fraction_leaf=0.0, presort='deprecated',\n",
              "                          random_state=1, splitter='best')),\n",
              "  ('knn',\n",
              "   KNeighborsClassifier(algorithm='auto', leaf_size=30, metric='minkowski',\n",
              "                        metric_params=None, n_jobs=None, n_neighbors=41, p=2,\n",
              "                        weights='uniform'))],\n",
              " 'flatten_transform': True,\n",
              " 'knn': KNeighborsClassifier(algorithm='auto', leaf_size=30, metric='minkowski',\n",
              "                      metric_params=None, n_jobs=None, n_neighbors=41, p=2,\n",
              "                      weights='uniform'),\n",
              " 'knn__algorithm': 'auto',\n",
              " 'knn__leaf_size': 30,\n",
              " 'knn__metric': 'minkowski',\n",
              " 'knn__metric_params': None,\n",
              " 'knn__n_jobs': None,\n",
              " 'knn__n_neighbors': 41,\n",
              " 'knn__p': 2,\n",
              " 'knn__weights': 'uniform',\n",
              " 'logistic': LogisticRegression(C=0.1, class_weight=None, dual=False, fit_intercept=True,\n",
              "                    intercept_scaling=1, l1_ratio=None, max_iter=100,\n",
              "                    multi_class='auto', n_jobs=None, penalty='l2',\n",
              "                    random_state=1, solver='liblinear', tol=0.0001, verbose=0,\n",
              "                    warm_start=False),\n",
              " 'logistic__C': 0.1,\n",
              " 'logistic__class_weight': None,\n",
              " 'logistic__dual': False,\n",
              " 'logistic__fit_intercept': True,\n",
              " 'logistic__intercept_scaling': 1,\n",
              " 'logistic__l1_ratio': None,\n",
              " 'logistic__max_iter': 100,\n",
              " 'logistic__multi_class': 'auto',\n",
              " 'logistic__n_jobs': None,\n",
              " 'logistic__penalty': 'l2',\n",
              " 'logistic__random_state': 1,\n",
              " 'logistic__solver': 'liblinear',\n",
              " 'logistic__tol': 0.0001,\n",
              " 'logistic__verbose': 0,\n",
              " 'logistic__warm_start': False,\n",
              " 'n_jobs': None,\n",
              " 'tree': DecisionTreeClassifier(ccp_alpha=0.0, class_weight=None, criterion='entropy',\n",
              "                        max_depth=4, max_features=None, max_leaf_nodes=None,\n",
              "                        min_impurity_decrease=0.0, min_impurity_split=None,\n",
              "                        min_samples_leaf=1, min_samples_split=2,\n",
              "                        min_weight_fraction_leaf=0.0, presort='deprecated',\n",
              "                        random_state=1, splitter='best'),\n",
              " 'tree__ccp_alpha': 0.0,\n",
              " 'tree__class_weight': None,\n",
              " 'tree__criterion': 'entropy',\n",
              " 'tree__max_depth': 4,\n",
              " 'tree__max_features': None,\n",
              " 'tree__max_leaf_nodes': None,\n",
              " 'tree__min_impurity_decrease': 0.0,\n",
              " 'tree__min_impurity_split': None,\n",
              " 'tree__min_samples_leaf': 1,\n",
              " 'tree__min_samples_split': 2,\n",
              " 'tree__min_weight_fraction_leaf': 0.0,\n",
              " 'tree__presort': 'deprecated',\n",
              " 'tree__random_state': 1,\n",
              " 'tree__splitter': 'best',\n",
              " 'voting': 'soft',\n",
              " 'weights': None}"
            ]
          },
          "metadata": {
            "tags": []
          },
          "execution_count": 22
        }
      ]
    },
    {
      "cell_type": "code",
      "metadata": {
        "id": "jkiSXNh8DoAf"
      },
      "source": [
        "parms = {'logistic__C':[0.001,0.1,100.0],\n",
        "         'tree__max_depth' :  [1,2,3,4,5],\n",
        "         'knn__n_neighbors':[1,2,3,4,5]}\n",
        "\n",
        "\n",
        "grid = GridSearchCV(estimator=voting, \n",
        "                    param_grid=parms,\n",
        "                    cv=10,\n",
        "                    scoring='roc_auc',\n",
        "                    iid=False)\n",
        "\n",
        "\n"
      ],
      "execution_count": 23,
      "outputs": []
    },
    {
      "cell_type": "code",
      "metadata": {
        "colab": {
          "base_uri": "https://localhost:8080/"
        },
        "id": "gH2TjECEFDAZ",
        "outputId": "b1649572-8a48-4f45-bfc2-fbaa9971e146"
      },
      "source": [
        "grid.fit(X_train,y_train)"
      ],
      "execution_count": 24,
      "outputs": [
        {
          "output_type": "stream",
          "text": [
            "/usr/local/lib/python3.7/dist-packages/sklearn/model_selection/_search.py:823: FutureWarning: The parameter 'iid' is deprecated in 0.22 and will be removed in 0.24.\n",
            "  \"removed in 0.24.\", FutureWarning\n"
          ],
          "name": "stderr"
        },
        {
          "output_type": "execute_result",
          "data": {
            "text/plain": [
              "GridSearchCV(cv=10, error_score=nan,\n",
              "             estimator=VotingClassifier(estimators=[('logistic',\n",
              "                                                     LogisticRegression(C=0.1,\n",
              "                                                                        class_weight=None,\n",
              "                                                                        dual=False,\n",
              "                                                                        fit_intercept=True,\n",
              "                                                                        intercept_scaling=1,\n",
              "                                                                        l1_ratio=None,\n",
              "                                                                        max_iter=100,\n",
              "                                                                        multi_class='auto',\n",
              "                                                                        n_jobs=None,\n",
              "                                                                        penalty='l2',\n",
              "                                                                        random_state=1,\n",
              "                                                                        solver='liblinear',\n",
              "                                                                        tol=0.0001,\n",
              "                                                                        verbose=0,\n",
              "                                                                        warm_start=False)),\n",
              "                                                    ('tree',\n",
              "                                                     DecisionTreeClassi...\n",
              "                                                                          metric_params=None,\n",
              "                                                                          n_jobs=None,\n",
              "                                                                          n_neighbors=41,\n",
              "                                                                          p=2,\n",
              "                                                                          weights='uniform'))],\n",
              "                                        flatten_transform=True, n_jobs=None,\n",
              "                                        voting='soft', weights=None),\n",
              "             iid=False, n_jobs=None,\n",
              "             param_grid={'knn__n_neighbors': [1, 2, 3, 4, 5],\n",
              "                         'logistic__C': [0.001, 0.1, 100.0],\n",
              "                         'tree__max_depth': [1, 2, 3, 4, 5]},\n",
              "             pre_dispatch='2*n_jobs', refit=True, return_train_score=False,\n",
              "             scoring='roc_auc', verbose=0)"
            ]
          },
          "metadata": {
            "tags": []
          },
          "execution_count": 24
        }
      ]
    },
    {
      "cell_type": "code",
      "metadata": {
        "id": "eeT3PNOLFz9a",
        "colab": {
          "base_uri": "https://localhost:8080/"
        },
        "outputId": "4b5120f2-fb14-46ab-a6c9-d7f7fe7dbf59"
      },
      "source": [
        "for r, _ in enumerate(grid.cv_results_['mean_test_score']):\n",
        "  print(\"%0.3f +/- %0.3f %r\" % (grid.cv_results_['mean_test_score'][r],\n",
        "        grid.cv_results_['std_test_score'][r] / 2.0,\n",
        "        grid.cv_results_['params'][r]))\n"
      ],
      "execution_count": 25,
      "outputs": [
        {
          "output_type": "stream",
          "text": [
            "0.909 +/- 0.015 {'knn__n_neighbors': 1, 'logistic__C': 0.001, 'tree__max_depth': 1}\n",
            "0.933 +/- 0.010 {'knn__n_neighbors': 1, 'logistic__C': 0.001, 'tree__max_depth': 2}\n",
            "0.946 +/- 0.006 {'knn__n_neighbors': 1, 'logistic__C': 0.001, 'tree__max_depth': 3}\n",
            "0.950 +/- 0.007 {'knn__n_neighbors': 1, 'logistic__C': 0.001, 'tree__max_depth': 4}\n",
            "0.951 +/- 0.007 {'knn__n_neighbors': 1, 'logistic__C': 0.001, 'tree__max_depth': 5}\n",
            "0.910 +/- 0.014 {'knn__n_neighbors': 1, 'logistic__C': 0.1, 'tree__max_depth': 1}\n",
            "0.934 +/- 0.010 {'knn__n_neighbors': 1, 'logistic__C': 0.1, 'tree__max_depth': 2}\n",
            "0.948 +/- 0.006 {'knn__n_neighbors': 1, 'logistic__C': 0.1, 'tree__max_depth': 3}\n",
            "0.951 +/- 0.007 {'knn__n_neighbors': 1, 'logistic__C': 0.1, 'tree__max_depth': 4}\n",
            "0.952 +/- 0.007 {'knn__n_neighbors': 1, 'logistic__C': 0.1, 'tree__max_depth': 5}\n",
            "0.910 +/- 0.014 {'knn__n_neighbors': 1, 'logistic__C': 100.0, 'tree__max_depth': 1}\n",
            "0.933 +/- 0.010 {'knn__n_neighbors': 1, 'logistic__C': 100.0, 'tree__max_depth': 2}\n",
            "0.947 +/- 0.006 {'knn__n_neighbors': 1, 'logistic__C': 100.0, 'tree__max_depth': 3}\n",
            "0.950 +/- 0.007 {'knn__n_neighbors': 1, 'logistic__C': 100.0, 'tree__max_depth': 4}\n",
            "0.951 +/- 0.007 {'knn__n_neighbors': 1, 'logistic__C': 100.0, 'tree__max_depth': 5}\n",
            "0.935 +/- 0.008 {'knn__n_neighbors': 2, 'logistic__C': 0.001, 'tree__max_depth': 1}\n",
            "0.949 +/- 0.007 {'knn__n_neighbors': 2, 'logistic__C': 0.001, 'tree__max_depth': 2}\n",
            "0.955 +/- 0.005 {'knn__n_neighbors': 2, 'logistic__C': 0.001, 'tree__max_depth': 3}\n",
            "0.960 +/- 0.006 {'knn__n_neighbors': 2, 'logistic__C': 0.001, 'tree__max_depth': 4}\n",
            "0.958 +/- 0.006 {'knn__n_neighbors': 2, 'logistic__C': 0.001, 'tree__max_depth': 5}\n",
            "0.937 +/- 0.008 {'knn__n_neighbors': 2, 'logistic__C': 0.1, 'tree__max_depth': 1}\n",
            "0.950 +/- 0.007 {'knn__n_neighbors': 2, 'logistic__C': 0.1, 'tree__max_depth': 2}\n",
            "0.955 +/- 0.005 {'knn__n_neighbors': 2, 'logistic__C': 0.1, 'tree__max_depth': 3}\n",
            "0.961 +/- 0.006 {'knn__n_neighbors': 2, 'logistic__C': 0.1, 'tree__max_depth': 4}\n",
            "0.959 +/- 0.006 {'knn__n_neighbors': 2, 'logistic__C': 0.1, 'tree__max_depth': 5}\n",
            "0.936 +/- 0.008 {'knn__n_neighbors': 2, 'logistic__C': 100.0, 'tree__max_depth': 1}\n",
            "0.950 +/- 0.007 {'knn__n_neighbors': 2, 'logistic__C': 100.0, 'tree__max_depth': 2}\n",
            "0.955 +/- 0.005 {'knn__n_neighbors': 2, 'logistic__C': 100.0, 'tree__max_depth': 3}\n",
            "0.960 +/- 0.006 {'knn__n_neighbors': 2, 'logistic__C': 100.0, 'tree__max_depth': 4}\n",
            "0.959 +/- 0.006 {'knn__n_neighbors': 2, 'logistic__C': 100.0, 'tree__max_depth': 5}\n",
            "0.945 +/- 0.008 {'knn__n_neighbors': 3, 'logistic__C': 0.001, 'tree__max_depth': 1}\n",
            "0.956 +/- 0.006 {'knn__n_neighbors': 3, 'logistic__C': 0.001, 'tree__max_depth': 2}\n",
            "0.961 +/- 0.004 {'knn__n_neighbors': 3, 'logistic__C': 0.001, 'tree__max_depth': 3}\n",
            "0.965 +/- 0.005 {'knn__n_neighbors': 3, 'logistic__C': 0.001, 'tree__max_depth': 4}\n",
            "0.964 +/- 0.005 {'knn__n_neighbors': 3, 'logistic__C': 0.001, 'tree__max_depth': 5}\n",
            "0.947 +/- 0.007 {'knn__n_neighbors': 3, 'logistic__C': 0.1, 'tree__max_depth': 1}\n",
            "0.958 +/- 0.005 {'knn__n_neighbors': 3, 'logistic__C': 0.1, 'tree__max_depth': 2}\n",
            "0.962 +/- 0.004 {'knn__n_neighbors': 3, 'logistic__C': 0.1, 'tree__max_depth': 3}\n",
            "0.966 +/- 0.005 {'knn__n_neighbors': 3, 'logistic__C': 0.1, 'tree__max_depth': 4}\n",
            "0.964 +/- 0.005 {'knn__n_neighbors': 3, 'logistic__C': 0.1, 'tree__max_depth': 5}\n",
            "0.946 +/- 0.007 {'knn__n_neighbors': 3, 'logistic__C': 100.0, 'tree__max_depth': 1}\n",
            "0.957 +/- 0.006 {'knn__n_neighbors': 3, 'logistic__C': 100.0, 'tree__max_depth': 2}\n",
            "0.961 +/- 0.004 {'knn__n_neighbors': 3, 'logistic__C': 100.0, 'tree__max_depth': 3}\n",
            "0.965 +/- 0.005 {'knn__n_neighbors': 3, 'logistic__C': 100.0, 'tree__max_depth': 4}\n",
            "0.964 +/- 0.005 {'knn__n_neighbors': 3, 'logistic__C': 100.0, 'tree__max_depth': 5}\n",
            "0.948 +/- 0.008 {'knn__n_neighbors': 4, 'logistic__C': 0.001, 'tree__max_depth': 1}\n",
            "0.959 +/- 0.006 {'knn__n_neighbors': 4, 'logistic__C': 0.001, 'tree__max_depth': 2}\n",
            "0.962 +/- 0.005 {'knn__n_neighbors': 4, 'logistic__C': 0.001, 'tree__max_depth': 3}\n",
            "0.967 +/- 0.006 {'knn__n_neighbors': 4, 'logistic__C': 0.001, 'tree__max_depth': 4}\n",
            "0.965 +/- 0.006 {'knn__n_neighbors': 4, 'logistic__C': 0.001, 'tree__max_depth': 5}\n",
            "0.950 +/- 0.008 {'knn__n_neighbors': 4, 'logistic__C': 0.1, 'tree__max_depth': 1}\n",
            "0.960 +/- 0.006 {'knn__n_neighbors': 4, 'logistic__C': 0.1, 'tree__max_depth': 2}\n",
            "0.963 +/- 0.005 {'knn__n_neighbors': 4, 'logistic__C': 0.1, 'tree__max_depth': 3}\n",
            "0.967 +/- 0.006 {'knn__n_neighbors': 4, 'logistic__C': 0.1, 'tree__max_depth': 4}\n",
            "0.966 +/- 0.005 {'knn__n_neighbors': 4, 'logistic__C': 0.1, 'tree__max_depth': 5}\n",
            "0.949 +/- 0.008 {'knn__n_neighbors': 4, 'logistic__C': 100.0, 'tree__max_depth': 1}\n",
            "0.960 +/- 0.006 {'knn__n_neighbors': 4, 'logistic__C': 100.0, 'tree__max_depth': 2}\n",
            "0.963 +/- 0.005 {'knn__n_neighbors': 4, 'logistic__C': 100.0, 'tree__max_depth': 3}\n",
            "0.967 +/- 0.006 {'knn__n_neighbors': 4, 'logistic__C': 100.0, 'tree__max_depth': 4}\n",
            "0.965 +/- 0.005 {'knn__n_neighbors': 4, 'logistic__C': 100.0, 'tree__max_depth': 5}\n",
            "0.948 +/- 0.009 {'knn__n_neighbors': 5, 'logistic__C': 0.001, 'tree__max_depth': 1}\n",
            "0.959 +/- 0.006 {'knn__n_neighbors': 5, 'logistic__C': 0.001, 'tree__max_depth': 2}\n",
            "0.963 +/- 0.005 {'knn__n_neighbors': 5, 'logistic__C': 0.001, 'tree__max_depth': 3}\n",
            "0.966 +/- 0.006 {'knn__n_neighbors': 5, 'logistic__C': 0.001, 'tree__max_depth': 4}\n",
            "0.965 +/- 0.005 {'knn__n_neighbors': 5, 'logistic__C': 0.001, 'tree__max_depth': 5}\n",
            "0.950 +/- 0.008 {'knn__n_neighbors': 5, 'logistic__C': 0.1, 'tree__max_depth': 1}\n",
            "0.960 +/- 0.006 {'knn__n_neighbors': 5, 'logistic__C': 0.1, 'tree__max_depth': 2}\n",
            "0.963 +/- 0.005 {'knn__n_neighbors': 5, 'logistic__C': 0.1, 'tree__max_depth': 3}\n",
            "0.967 +/- 0.005 {'knn__n_neighbors': 5, 'logistic__C': 0.1, 'tree__max_depth': 4}\n",
            "0.965 +/- 0.005 {'knn__n_neighbors': 5, 'logistic__C': 0.1, 'tree__max_depth': 5}\n",
            "0.949 +/- 0.008 {'knn__n_neighbors': 5, 'logistic__C': 100.0, 'tree__max_depth': 1}\n",
            "0.960 +/- 0.006 {'knn__n_neighbors': 5, 'logistic__C': 100.0, 'tree__max_depth': 2}\n",
            "0.963 +/- 0.005 {'knn__n_neighbors': 5, 'logistic__C': 100.0, 'tree__max_depth': 3}\n",
            "0.967 +/- 0.005 {'knn__n_neighbors': 5, 'logistic__C': 100.0, 'tree__max_depth': 4}\n",
            "0.965 +/- 0.005 {'knn__n_neighbors': 5, 'logistic__C': 100.0, 'tree__max_depth': 5}\n"
          ],
          "name": "stdout"
        }
      ]
    },
    {
      "cell_type": "code",
      "metadata": {
        "id": "ewBvZ6w7EYln",
        "colab": {
          "base_uri": "https://localhost:8080/"
        },
        "outputId": "c1e5fc11-3e96-4f8e-8029-cc2a633dc0ed"
      },
      "source": [
        "print('최적의 파타미터: %s' % grid.best_params_)\n",
        "print('ACU: %.3f' % grid.best_score_)\n"
      ],
      "execution_count": 26,
      "outputs": [
        {
          "output_type": "stream",
          "text": [
            "최적의 파타미터: {'knn__n_neighbors': 4, 'logistic__C': 0.1, 'tree__max_depth': 4}\n",
            "ACU: 0.967\n"
          ],
          "name": "stdout"
        }
      ]
    },
    {
      "cell_type": "markdown",
      "metadata": {
        "id": "DeYx8n8cHTDw"
      },
      "source": [
        "## Bagging"
      ]
    },
    {
      "cell_type": "code",
      "metadata": {
        "colab": {
          "base_uri": "https://localhost:8080/"
        },
        "id": "xB5HD7BGHUhc",
        "outputId": "af248b2d-5ae1-42fb-ec7f-c7c43f842639"
      },
      "source": [
        "forest.get_params()"
      ],
      "execution_count": 27,
      "outputs": [
        {
          "output_type": "execute_result",
          "data": {
            "text/plain": [
              "{'bootstrap': True,\n",
              " 'ccp_alpha': 0.0,\n",
              " 'class_weight': None,\n",
              " 'criterion': 'entropy',\n",
              " 'max_depth': None,\n",
              " 'max_features': 'auto',\n",
              " 'max_leaf_nodes': None,\n",
              " 'max_samples': None,\n",
              " 'min_impurity_decrease': 0.0,\n",
              " 'min_impurity_split': None,\n",
              " 'min_samples_leaf': 1,\n",
              " 'min_samples_split': 2,\n",
              " 'min_weight_fraction_leaf': 0.0,\n",
              " 'n_estimators': 700,\n",
              " 'n_jobs': None,\n",
              " 'oob_score': False,\n",
              " 'random_state': 1,\n",
              " 'verbose': 0,\n",
              " 'warm_start': False}"
            ]
          },
          "metadata": {
            "tags": []
          },
          "execution_count": 27
        }
      ]
    },
    {
      "cell_type": "code",
      "metadata": {
        "id": "805ZaU2LHgTD"
      },
      "source": [
        "parms = {'n_estimators':[100],\n",
        "         'max_depth' :  [6,8,10,12],\n",
        "         'min_samples_leaf':[3,5,7,10],\n",
        "         'min_samples_split': [2,3,5,10]}\n",
        "\n",
        "\n",
        "grid = GridSearchCV(estimator=forest, \n",
        "                    param_grid=parms,\n",
        "                    cv=10,\n",
        "                    scoring='roc_auc',\n",
        "                    iid=False)"
      ],
      "execution_count": 28,
      "outputs": []
    },
    {
      "cell_type": "code",
      "metadata": {
        "colab": {
          "base_uri": "https://localhost:8080/"
        },
        "id": "pqat072ELXzZ",
        "outputId": "a11b1de4-f5aa-4358-adfb-377c9b970649"
      },
      "source": [
        "grid.fit(X_train,y_train)"
      ],
      "execution_count": 29,
      "outputs": [
        {
          "output_type": "stream",
          "text": [
            "/usr/local/lib/python3.7/dist-packages/sklearn/model_selection/_search.py:823: FutureWarning: The parameter 'iid' is deprecated in 0.22 and will be removed in 0.24.\n",
            "  \"removed in 0.24.\", FutureWarning\n"
          ],
          "name": "stderr"
        },
        {
          "output_type": "execute_result",
          "data": {
            "text/plain": [
              "GridSearchCV(cv=10, error_score=nan,\n",
              "             estimator=RandomForestClassifier(bootstrap=True, ccp_alpha=0.0,\n",
              "                                              class_weight=None,\n",
              "                                              criterion='entropy',\n",
              "                                              max_depth=None,\n",
              "                                              max_features='auto',\n",
              "                                              max_leaf_nodes=None,\n",
              "                                              max_samples=None,\n",
              "                                              min_impurity_decrease=0.0,\n",
              "                                              min_impurity_split=None,\n",
              "                                              min_samples_leaf=1,\n",
              "                                              min_samples_split=2,\n",
              "                                              min_weight_fraction_leaf=0.0,\n",
              "                                              n_estimators=700, n_jobs=None,\n",
              "                                              oob_score=False, random_state=1,\n",
              "                                              verbose=0, warm_start=False),\n",
              "             iid=False, n_jobs=None,\n",
              "             param_grid={'max_depth': [6, 8, 10, 12],\n",
              "                         'min_samples_leaf': [3, 5, 7, 10],\n",
              "                         'min_samples_split': [2, 3, 5, 10],\n",
              "                         'n_estimators': [100]},\n",
              "             pre_dispatch='2*n_jobs', refit=True, return_train_score=False,\n",
              "             scoring='roc_auc', verbose=0)"
            ]
          },
          "metadata": {
            "tags": []
          },
          "execution_count": 29
        }
      ]
    },
    {
      "cell_type": "code",
      "metadata": {
        "colab": {
          "base_uri": "https://localhost:8080/"
        },
        "id": "rGcRjkNNLZys",
        "outputId": "921569a4-0e51-4e19-dd56-a5aec3c47996"
      },
      "source": [
        "\n",
        "for r, _ in enumerate(grid.cv_results_['mean_test_score']):\n",
        "  print(\"%0.3f +/- %0.3f %r\" % (grid.cv_results_['mean_test_score'][r],\n",
        "        grid.cv_results_['std_test_score'][r] / 2.0,\n",
        "        grid.cv_results_['params'][r]))"
      ],
      "execution_count": 30,
      "outputs": [
        {
          "output_type": "stream",
          "text": [
            "0.963 +/- 0.005 {'max_depth': 6, 'min_samples_leaf': 3, 'min_samples_split': 2, 'n_estimators': 100}\n",
            "0.963 +/- 0.005 {'max_depth': 6, 'min_samples_leaf': 3, 'min_samples_split': 3, 'n_estimators': 100}\n",
            "0.963 +/- 0.005 {'max_depth': 6, 'min_samples_leaf': 3, 'min_samples_split': 5, 'n_estimators': 100}\n",
            "0.963 +/- 0.005 {'max_depth': 6, 'min_samples_leaf': 3, 'min_samples_split': 10, 'n_estimators': 100}\n",
            "0.963 +/- 0.005 {'max_depth': 6, 'min_samples_leaf': 5, 'min_samples_split': 2, 'n_estimators': 100}\n",
            "0.963 +/- 0.005 {'max_depth': 6, 'min_samples_leaf': 5, 'min_samples_split': 3, 'n_estimators': 100}\n",
            "0.963 +/- 0.005 {'max_depth': 6, 'min_samples_leaf': 5, 'min_samples_split': 5, 'n_estimators': 100}\n",
            "0.963 +/- 0.005 {'max_depth': 6, 'min_samples_leaf': 5, 'min_samples_split': 10, 'n_estimators': 100}\n",
            "0.963 +/- 0.005 {'max_depth': 6, 'min_samples_leaf': 7, 'min_samples_split': 2, 'n_estimators': 100}\n",
            "0.963 +/- 0.005 {'max_depth': 6, 'min_samples_leaf': 7, 'min_samples_split': 3, 'n_estimators': 100}\n",
            "0.963 +/- 0.005 {'max_depth': 6, 'min_samples_leaf': 7, 'min_samples_split': 5, 'n_estimators': 100}\n",
            "0.963 +/- 0.005 {'max_depth': 6, 'min_samples_leaf': 7, 'min_samples_split': 10, 'n_estimators': 100}\n",
            "0.962 +/- 0.005 {'max_depth': 6, 'min_samples_leaf': 10, 'min_samples_split': 2, 'n_estimators': 100}\n",
            "0.962 +/- 0.005 {'max_depth': 6, 'min_samples_leaf': 10, 'min_samples_split': 3, 'n_estimators': 100}\n",
            "0.962 +/- 0.005 {'max_depth': 6, 'min_samples_leaf': 10, 'min_samples_split': 5, 'n_estimators': 100}\n",
            "0.962 +/- 0.005 {'max_depth': 6, 'min_samples_leaf': 10, 'min_samples_split': 10, 'n_estimators': 100}\n",
            "0.963 +/- 0.005 {'max_depth': 8, 'min_samples_leaf': 3, 'min_samples_split': 2, 'n_estimators': 100}\n",
            "0.963 +/- 0.005 {'max_depth': 8, 'min_samples_leaf': 3, 'min_samples_split': 3, 'n_estimators': 100}\n",
            "0.963 +/- 0.005 {'max_depth': 8, 'min_samples_leaf': 3, 'min_samples_split': 5, 'n_estimators': 100}\n",
            "0.963 +/- 0.005 {'max_depth': 8, 'min_samples_leaf': 3, 'min_samples_split': 10, 'n_estimators': 100}\n",
            "0.963 +/- 0.005 {'max_depth': 8, 'min_samples_leaf': 5, 'min_samples_split': 2, 'n_estimators': 100}\n",
            "0.963 +/- 0.005 {'max_depth': 8, 'min_samples_leaf': 5, 'min_samples_split': 3, 'n_estimators': 100}\n",
            "0.963 +/- 0.005 {'max_depth': 8, 'min_samples_leaf': 5, 'min_samples_split': 5, 'n_estimators': 100}\n",
            "0.963 +/- 0.005 {'max_depth': 8, 'min_samples_leaf': 5, 'min_samples_split': 10, 'n_estimators': 100}\n",
            "0.963 +/- 0.005 {'max_depth': 8, 'min_samples_leaf': 7, 'min_samples_split': 2, 'n_estimators': 100}\n",
            "0.963 +/- 0.005 {'max_depth': 8, 'min_samples_leaf': 7, 'min_samples_split': 3, 'n_estimators': 100}\n",
            "0.963 +/- 0.005 {'max_depth': 8, 'min_samples_leaf': 7, 'min_samples_split': 5, 'n_estimators': 100}\n",
            "0.963 +/- 0.005 {'max_depth': 8, 'min_samples_leaf': 7, 'min_samples_split': 10, 'n_estimators': 100}\n",
            "0.962 +/- 0.005 {'max_depth': 8, 'min_samples_leaf': 10, 'min_samples_split': 2, 'n_estimators': 100}\n",
            "0.962 +/- 0.005 {'max_depth': 8, 'min_samples_leaf': 10, 'min_samples_split': 3, 'n_estimators': 100}\n",
            "0.962 +/- 0.005 {'max_depth': 8, 'min_samples_leaf': 10, 'min_samples_split': 5, 'n_estimators': 100}\n",
            "0.962 +/- 0.005 {'max_depth': 8, 'min_samples_leaf': 10, 'min_samples_split': 10, 'n_estimators': 100}\n",
            "0.962 +/- 0.006 {'max_depth': 10, 'min_samples_leaf': 3, 'min_samples_split': 2, 'n_estimators': 100}\n",
            "0.962 +/- 0.006 {'max_depth': 10, 'min_samples_leaf': 3, 'min_samples_split': 3, 'n_estimators': 100}\n",
            "0.962 +/- 0.006 {'max_depth': 10, 'min_samples_leaf': 3, 'min_samples_split': 5, 'n_estimators': 100}\n",
            "0.963 +/- 0.005 {'max_depth': 10, 'min_samples_leaf': 3, 'min_samples_split': 10, 'n_estimators': 100}\n",
            "0.963 +/- 0.006 {'max_depth': 10, 'min_samples_leaf': 5, 'min_samples_split': 2, 'n_estimators': 100}\n",
            "0.963 +/- 0.006 {'max_depth': 10, 'min_samples_leaf': 5, 'min_samples_split': 3, 'n_estimators': 100}\n",
            "0.963 +/- 0.006 {'max_depth': 10, 'min_samples_leaf': 5, 'min_samples_split': 5, 'n_estimators': 100}\n",
            "0.963 +/- 0.006 {'max_depth': 10, 'min_samples_leaf': 5, 'min_samples_split': 10, 'n_estimators': 100}\n",
            "0.963 +/- 0.006 {'max_depth': 10, 'min_samples_leaf': 7, 'min_samples_split': 2, 'n_estimators': 100}\n",
            "0.963 +/- 0.006 {'max_depth': 10, 'min_samples_leaf': 7, 'min_samples_split': 3, 'n_estimators': 100}\n",
            "0.963 +/- 0.006 {'max_depth': 10, 'min_samples_leaf': 7, 'min_samples_split': 5, 'n_estimators': 100}\n",
            "0.963 +/- 0.006 {'max_depth': 10, 'min_samples_leaf': 7, 'min_samples_split': 10, 'n_estimators': 100}\n",
            "0.962 +/- 0.005 {'max_depth': 10, 'min_samples_leaf': 10, 'min_samples_split': 2, 'n_estimators': 100}\n",
            "0.962 +/- 0.005 {'max_depth': 10, 'min_samples_leaf': 10, 'min_samples_split': 3, 'n_estimators': 100}\n",
            "0.962 +/- 0.005 {'max_depth': 10, 'min_samples_leaf': 10, 'min_samples_split': 5, 'n_estimators': 100}\n",
            "0.962 +/- 0.005 {'max_depth': 10, 'min_samples_leaf': 10, 'min_samples_split': 10, 'n_estimators': 100}\n",
            "0.963 +/- 0.006 {'max_depth': 12, 'min_samples_leaf': 3, 'min_samples_split': 2, 'n_estimators': 100}\n",
            "0.963 +/- 0.006 {'max_depth': 12, 'min_samples_leaf': 3, 'min_samples_split': 3, 'n_estimators': 100}\n",
            "0.963 +/- 0.006 {'max_depth': 12, 'min_samples_leaf': 3, 'min_samples_split': 5, 'n_estimators': 100}\n",
            "0.962 +/- 0.006 {'max_depth': 12, 'min_samples_leaf': 3, 'min_samples_split': 10, 'n_estimators': 100}\n",
            "0.963 +/- 0.006 {'max_depth': 12, 'min_samples_leaf': 5, 'min_samples_split': 2, 'n_estimators': 100}\n",
            "0.963 +/- 0.006 {'max_depth': 12, 'min_samples_leaf': 5, 'min_samples_split': 3, 'n_estimators': 100}\n",
            "0.963 +/- 0.006 {'max_depth': 12, 'min_samples_leaf': 5, 'min_samples_split': 5, 'n_estimators': 100}\n",
            "0.963 +/- 0.006 {'max_depth': 12, 'min_samples_leaf': 5, 'min_samples_split': 10, 'n_estimators': 100}\n",
            "0.962 +/- 0.006 {'max_depth': 12, 'min_samples_leaf': 7, 'min_samples_split': 2, 'n_estimators': 100}\n",
            "0.962 +/- 0.006 {'max_depth': 12, 'min_samples_leaf': 7, 'min_samples_split': 3, 'n_estimators': 100}\n",
            "0.962 +/- 0.006 {'max_depth': 12, 'min_samples_leaf': 7, 'min_samples_split': 5, 'n_estimators': 100}\n",
            "0.962 +/- 0.006 {'max_depth': 12, 'min_samples_leaf': 7, 'min_samples_split': 10, 'n_estimators': 100}\n",
            "0.962 +/- 0.005 {'max_depth': 12, 'min_samples_leaf': 10, 'min_samples_split': 2, 'n_estimators': 100}\n",
            "0.962 +/- 0.005 {'max_depth': 12, 'min_samples_leaf': 10, 'min_samples_split': 3, 'n_estimators': 100}\n",
            "0.962 +/- 0.005 {'max_depth': 12, 'min_samples_leaf': 10, 'min_samples_split': 5, 'n_estimators': 100}\n",
            "0.962 +/- 0.005 {'max_depth': 12, 'min_samples_leaf': 10, 'min_samples_split': 10, 'n_estimators': 100}\n"
          ],
          "name": "stdout"
        }
      ]
    },
    {
      "cell_type": "code",
      "metadata": {
        "colab": {
          "base_uri": "https://localhost:8080/"
        },
        "id": "oDWlTVYqHnDb",
        "outputId": "a507bc7e-0a65-47f8-e28a-794dee4116de"
      },
      "source": [
        "print('최적의 파타미터: %s' % grid.best_params_)\n",
        "print('ACU: %.3f' % grid.best_score_)"
      ],
      "execution_count": 31,
      "outputs": [
        {
          "output_type": "stream",
          "text": [
            "최적의 파타미터: {'max_depth': 8, 'min_samples_leaf': 5, 'min_samples_split': 2, 'n_estimators': 100}\n",
            "ACU: 0.963\n"
          ],
          "name": "stdout"
        }
      ]
    }
  ]
}