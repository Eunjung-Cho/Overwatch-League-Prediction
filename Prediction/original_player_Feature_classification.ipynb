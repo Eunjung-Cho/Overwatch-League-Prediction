{
  "nbformat": 4,
  "nbformat_minor": 0,
  "metadata": {
    "colab": {
      "name": "original_player_Feature_classification",
      "provenance": [],
      "collapsed_sections": [],
      "include_colab_link": true
    },
    "kernelspec": {
      "name": "python3",
      "display_name": "Python 3"
    },
    "language_info": {
      "name": "python"
    }
  },
  "cells": [
    {
      "cell_type": "markdown",
      "metadata": {
        "id": "view-in-github",
        "colab_type": "text"
      },
      "source": [
        "<a href=\"https://colab.research.google.com/github/hijyun/Overwatch-League-Prediction/blob/main/Prediction/original_player_Feature_classification.ipynb\" target=\"_parent\"><img src=\"https://colab.research.google.com/assets/colab-badge.svg\" alt=\"Open In Colab\"/></a>"
      ]
    },
    {
      "cell_type": "markdown",
      "metadata": {
        "id": "KPJ5cnz4e7h3"
      },
      "source": [
        "# 기본 패키지 설정"
      ]
    },
    {
      "cell_type": "code",
      "metadata": {
        "id": "tMsJfrg0e1aD"
      },
      "source": [
        "import numpy as np\n",
        "import matplotlib.pyplot as plt\n",
        "import collections\n",
        "import pandas as pd\n",
        "from sklearn import datasets\n",
        "\n",
        "from sklearn.model_selection import train_test_split\n",
        "\n",
        "from sklearn.tree import DecisionTreeClassifier # 결정 트리\n",
        "from sklearn.neighbors import KNeighborsClassifier # KNN\n",
        "from sklearn.linear_model import LogisticRegression # 로지스틱 회귀\n",
        "\n",
        "from sklearn.ensemble import VotingClassifier,RandomForestClassifier,AdaBoostClassifier,GradientBoostingClassifier # 앙상블 \n",
        "\n",
        "from sklearn.metrics import confusion_matrix, classification_report # 정오분류표\n",
        "from sklearn.metrics import accuracy_score, precision_score, recall_score, f1_score, roc_auc_score \n",
        "from sklearn.metrics import roc_curve, auc, roc_auc_score  # ROC곡선 그리기\n",
        "\n",
        "from sklearn.model_selection import learning_curve, validation_curve # 학습곡선, 검증곡선\n",
        "from sklearn.model_selection import GridSearchCV, cross_val_score  # 하이퍼파라미터 튜닝, 교차타당도"
      ],
      "execution_count": 5,
      "outputs": []
    },
    {
      "cell_type": "code",
      "metadata": {
        "id": "-1biun3rN28z"
      },
      "source": [
        "from lightgbm import LGBMClassifier\n",
        "from xgboost import XGBClassifier"
      ],
      "execution_count": 42,
      "outputs": []
    },
    {
      "cell_type": "markdown",
      "metadata": {
        "id": "sa9qupW1gYdv"
      },
      "source": [
        "# 데이터 읽기"
      ]
    },
    {
      "cell_type": "code",
      "metadata": {
        "id": "uKtf41efMSE1"
      },
      "source": [
        "df1 = pd.read_csv('https://raw.githubusercontent.com/hijyun/Overwatch-League-Prediction/main/preprocessing/labeled_phs.csv')"
      ],
      "execution_count": 7,
      "outputs": []
    },
    {
      "cell_type": "code",
      "metadata": {
        "id": "xBknn5cfUpOA"
      },
      "source": [
        "df1 = df1.dropna(subset=['win'])\n",
        "df1 = df1.dropna(axis=1)"
      ],
      "execution_count": 8,
      "outputs": []
    },
    {
      "cell_type": "code",
      "metadata": {
        "colab": {
          "base_uri": "https://localhost:8080/",
          "height": 400
        },
        "id": "_7wCmUI4mCNC",
        "outputId": "383d5a25-fd18-4543-c1d1-eeb799fbe334"
      },
      "source": [
        "df1.head()"
      ],
      "execution_count": 10,
      "outputs": [
        {
          "output_type": "execute_result",
          "data": {
            "text/html": [
              "<div>\n",
              "<style scoped>\n",
              "    .dataframe tbody tr th:only-of-type {\n",
              "        vertical-align: middle;\n",
              "    }\n",
              "\n",
              "    .dataframe tbody tr th {\n",
              "        vertical-align: top;\n",
              "    }\n",
              "\n",
              "    .dataframe thead th {\n",
              "        text-align: right;\n",
              "    }\n",
              "</style>\n",
              "<table border=\"1\" class=\"dataframe\">\n",
              "  <thead>\n",
              "    <tr style=\"text-align: right;\">\n",
              "      <th></th>\n",
              "      <th>esports_match_id</th>\n",
              "      <th>map_name</th>\n",
              "      <th>team_name</th>\n",
              "      <th>All Damage Done</th>\n",
              "      <th>Average Time Alive</th>\n",
              "      <th>Critical Hit Accuracy</th>\n",
              "      <th>Critical Hits</th>\n",
              "      <th>Damage - Weapon</th>\n",
              "      <th>Damage Done</th>\n",
              "      <th>Damage Taken</th>\n",
              "      <th>Deaths</th>\n",
              "      <th>Eliminations</th>\n",
              "      <th>Final Blows</th>\n",
              "      <th>Healing Done</th>\n",
              "      <th>Healing Received</th>\n",
              "      <th>Hero Damage Done</th>\n",
              "      <th>Objective Time</th>\n",
              "      <th>Quick Melee Ticks</th>\n",
              "      <th>Self Healing</th>\n",
              "      <th>Self Healing Percent of Damage Taken</th>\n",
              "      <th>Shots Fired</th>\n",
              "      <th>Shots Hit</th>\n",
              "      <th>Shots Missed</th>\n",
              "      <th>Time Alive</th>\n",
              "      <th>Time Building Ultimate</th>\n",
              "      <th>Time Elapsed per Ultimate Earned</th>\n",
              "      <th>Time Holding Ultimate</th>\n",
              "      <th>Time Played</th>\n",
              "      <th>Ultimates Earned - Fractional</th>\n",
              "      <th>Ultimates Used</th>\n",
              "      <th>Weapon Accuracy</th>\n",
              "      <th>win</th>\n",
              "    </tr>\n",
              "  </thead>\n",
              "  <tbody>\n",
              "    <tr>\n",
              "      <th>0</th>\n",
              "      <td>30991</td>\n",
              "      <td>Eichenwalde</td>\n",
              "      <td>Paris Eternal</td>\n",
              "      <td>215077.685584</td>\n",
              "      <td>1053.844839</td>\n",
              "      <td>0.801656</td>\n",
              "      <td>98.0</td>\n",
              "      <td>12260.261844</td>\n",
              "      <td>60290.577886</td>\n",
              "      <td>107667.451329</td>\n",
              "      <td>104.0</td>\n",
              "      <td>262.0</td>\n",
              "      <td>86.0</td>\n",
              "      <td>63062.580216</td>\n",
              "      <td>34021.828452</td>\n",
              "      <td>120581.155776</td>\n",
              "      <td>2297.552069</td>\n",
              "      <td>118.0</td>\n",
              "      <td>4772.284377</td>\n",
              "      <td>0.844678</td>\n",
              "      <td>16452.0</td>\n",
              "      <td>1729.0</td>\n",
              "      <td>4124.0</td>\n",
              "      <td>10801.628323</td>\n",
              "      <td>9850.860287</td>\n",
              "      <td>1837.715771</td>\n",
              "      <td>1428.672042</td>\n",
              "      <td>11785.838174</td>\n",
              "      <td>101.710336</td>\n",
              "      <td>72.0</td>\n",
              "      <td>4.131859</td>\n",
              "      <td>0.0</td>\n",
              "    </tr>\n",
              "    <tr>\n",
              "      <th>1</th>\n",
              "      <td>30991</td>\n",
              "      <td>Eichenwalde</td>\n",
              "      <td>Toronto Defiant</td>\n",
              "      <td>258857.476470</td>\n",
              "      <td>1130.489272</td>\n",
              "      <td>0.657890</td>\n",
              "      <td>495.0</td>\n",
              "      <td>17282.651224</td>\n",
              "      <td>53833.725659</td>\n",
              "      <td>121061.942716</td>\n",
              "      <td>94.0</td>\n",
              "      <td>322.0</td>\n",
              "      <td>102.0</td>\n",
              "      <td>74759.061655</td>\n",
              "      <td>41520.140985</td>\n",
              "      <td>107667.451319</td>\n",
              "      <td>2022.140060</td>\n",
              "      <td>104.0</td>\n",
              "      <td>5127.443105</td>\n",
              "      <td>0.962057</td>\n",
              "      <td>56942.0</td>\n",
              "      <td>5549.0</td>\n",
              "      <td>13686.0</td>\n",
              "      <td>10877.382324</td>\n",
              "      <td>9341.070270</td>\n",
              "      <td>1605.899860</td>\n",
              "      <td>2084.574061</td>\n",
              "      <td>11785.838174</td>\n",
              "      <td>102.592067</td>\n",
              "      <td>94.0</td>\n",
              "      <td>3.350676</td>\n",
              "      <td>1.0</td>\n",
              "    </tr>\n",
              "    <tr>\n",
              "      <th>2</th>\n",
              "      <td>30991</td>\n",
              "      <td>Havana</td>\n",
              "      <td>Paris Eternal</td>\n",
              "      <td>135271.593583</td>\n",
              "      <td>731.894330</td>\n",
              "      <td>1.052684</td>\n",
              "      <td>58.0</td>\n",
              "      <td>11925.460499</td>\n",
              "      <td>42636.897814</td>\n",
              "      <td>84555.768862</td>\n",
              "      <td>118.0</td>\n",
              "      <td>156.0</td>\n",
              "      <td>56.0</td>\n",
              "      <td>42431.472878</td>\n",
              "      <td>22974.739296</td>\n",
              "      <td>85273.795628</td>\n",
              "      <td>994.132029</td>\n",
              "      <td>106.0</td>\n",
              "      <td>4128.372567</td>\n",
              "      <td>0.714363</td>\n",
              "      <td>8038.0</td>\n",
              "      <td>937.0</td>\n",
              "      <td>1775.0</td>\n",
              "      <td>7502.928225</td>\n",
              "      <td>7018.400204</td>\n",
              "      <td>2416.013788</td>\n",
              "      <td>1415.274041</td>\n",
              "      <td>8631.732713</td>\n",
              "      <td>66.336034</td>\n",
              "      <td>58.0</td>\n",
              "      <td>4.153382</td>\n",
              "      <td>0.0</td>\n",
              "    </tr>\n",
              "    <tr>\n",
              "      <th>3</th>\n",
              "      <td>30991</td>\n",
              "      <td>Havana</td>\n",
              "      <td>Toronto Defiant</td>\n",
              "      <td>173850.025950</td>\n",
              "      <td>1481.620544</td>\n",
              "      <td>0.915067</td>\n",
              "      <td>471.0</td>\n",
              "      <td>14435.638403</td>\n",
              "      <td>42277.884436</td>\n",
              "      <td>85702.029863</td>\n",
              "      <td>58.0</td>\n",
              "      <td>344.0</td>\n",
              "      <td>118.0</td>\n",
              "      <td>47998.800494</td>\n",
              "      <td>28430.259984</td>\n",
              "      <td>84555.768871</td>\n",
              "      <td>2286.668068</td>\n",
              "      <td>105.0</td>\n",
              "      <td>4469.151677</td>\n",
              "      <td>1.236224</td>\n",
              "      <td>34944.0</td>\n",
              "      <td>3894.0</td>\n",
              "      <td>9303.0</td>\n",
              "      <td>8055.172240</td>\n",
              "      <td>7012.694203</td>\n",
              "      <td>1293.108833</td>\n",
              "      <td>1271.936037</td>\n",
              "      <td>8631.732713</td>\n",
              "      <td>78.189298</td>\n",
              "      <td>72.0</td>\n",
              "      <td>3.183424</td>\n",
              "      <td>1.0</td>\n",
              "    </tr>\n",
              "    <tr>\n",
              "      <th>4</th>\n",
              "      <td>30991</td>\n",
              "      <td>Horizon Lunar Colony</td>\n",
              "      <td>Paris Eternal</td>\n",
              "      <td>163000.693570</td>\n",
              "      <td>1048.642330</td>\n",
              "      <td>0.569059</td>\n",
              "      <td>83.0</td>\n",
              "      <td>12938.384102</td>\n",
              "      <td>50577.573152</td>\n",
              "      <td>92947.477343</td>\n",
              "      <td>92.0</td>\n",
              "      <td>294.0</td>\n",
              "      <td>98.0</td>\n",
              "      <td>54899.992011</td>\n",
              "      <td>28632.823463</td>\n",
              "      <td>101155.146306</td>\n",
              "      <td>1026.466031</td>\n",
              "      <td>79.0</td>\n",
              "      <td>4823.313877</td>\n",
              "      <td>1.522612</td>\n",
              "      <td>11536.0</td>\n",
              "      <td>1507.0</td>\n",
              "      <td>2752.0</td>\n",
              "      <td>9044.662272</td>\n",
              "      <td>7817.912228</td>\n",
              "      <td>1849.852179</td>\n",
              "      <td>1805.488053</td>\n",
              "      <td>9881.643794</td>\n",
              "      <td>78.837408</td>\n",
              "      <td>60.0</td>\n",
              "      <td>5.673673</td>\n",
              "      <td>0.0</td>\n",
              "    </tr>\n",
              "  </tbody>\n",
              "</table>\n",
              "</div>"
            ],
            "text/plain": [
              "   esports_match_id              map_name  ... Weapon Accuracy  win\n",
              "0             30991           Eichenwalde  ...        4.131859  0.0\n",
              "1             30991           Eichenwalde  ...        3.350676  1.0\n",
              "2             30991                Havana  ...        4.153382  0.0\n",
              "3             30991                Havana  ...        3.183424  1.0\n",
              "4             30991  Horizon Lunar Colony  ...        5.673673  0.0\n",
              "\n",
              "[5 rows x 32 columns]"
            ]
          },
          "metadata": {
            "tags": []
          },
          "execution_count": 10
        }
      ]
    },
    {
      "cell_type": "code",
      "metadata": {
        "id": "bSyK89_qOsbC"
      },
      "source": [
        "X = df1.drop(['win','map_name','esports_match_id','team_name'], axis=1)\n",
        "y = df1['win']"
      ],
      "execution_count": 11,
      "outputs": []
    },
    {
      "cell_type": "code",
      "metadata": {
        "colab": {
          "base_uri": "https://localhost:8080/"
        },
        "id": "04iYHSxK8Khd",
        "outputId": "d9c549d7-cd88-45c9-f7f9-672cd229c02c"
      },
      "source": [
        "df1.info()"
      ],
      "execution_count": 12,
      "outputs": [
        {
          "output_type": "stream",
          "text": [
            "<class 'pandas.core.frame.DataFrame'>\n",
            "Int64Index: 2246 entries, 0 to 2281\n",
            "Data columns (total 32 columns):\n",
            " #   Column                                Non-Null Count  Dtype  \n",
            "---  ------                                --------------  -----  \n",
            " 0   esports_match_id                      2246 non-null   int64  \n",
            " 1   map_name                              2246 non-null   object \n",
            " 2   team_name                             2246 non-null   object \n",
            " 3   All Damage Done                       2246 non-null   float64\n",
            " 4   Average Time Alive                    2246 non-null   float64\n",
            " 5   Critical Hit Accuracy                 2246 non-null   float64\n",
            " 6   Critical Hits                         2246 non-null   float64\n",
            " 7   Damage - Weapon                       2246 non-null   float64\n",
            " 8   Damage Done                           2246 non-null   float64\n",
            " 9   Damage Taken                          2246 non-null   float64\n",
            " 10  Deaths                                2246 non-null   float64\n",
            " 11  Eliminations                          2246 non-null   float64\n",
            " 12  Final Blows                           2246 non-null   float64\n",
            " 13  Healing Done                          2246 non-null   float64\n",
            " 14  Healing Received                      2246 non-null   float64\n",
            " 15  Hero Damage Done                      2246 non-null   float64\n",
            " 16  Objective Time                        2246 non-null   float64\n",
            " 17  Quick Melee Ticks                     2246 non-null   float64\n",
            " 18  Self Healing                          2246 non-null   float64\n",
            " 19  Self Healing Percent of Damage Taken  2246 non-null   float64\n",
            " 20  Shots Fired                           2246 non-null   float64\n",
            " 21  Shots Hit                             2246 non-null   float64\n",
            " 22  Shots Missed                          2246 non-null   float64\n",
            " 23  Time Alive                            2246 non-null   float64\n",
            " 24  Time Building Ultimate                2246 non-null   float64\n",
            " 25  Time Elapsed per Ultimate Earned      2246 non-null   float64\n",
            " 26  Time Holding Ultimate                 2246 non-null   float64\n",
            " 27  Time Played                           2246 non-null   float64\n",
            " 28  Ultimates Earned - Fractional         2246 non-null   float64\n",
            " 29  Ultimates Used                        2246 non-null   float64\n",
            " 30  Weapon Accuracy                       2246 non-null   float64\n",
            " 31  win                                   2246 non-null   float64\n",
            "dtypes: float64(29), int64(1), object(2)\n",
            "memory usage: 579.0+ KB\n"
          ],
          "name": "stdout"
        }
      ]
    },
    {
      "cell_type": "code",
      "metadata": {
        "colab": {
          "base_uri": "https://localhost:8080/"
        },
        "id": "X4d3rOFpmq48",
        "outputId": "a84b02f7-0734-43b4-99f2-7a165b12aa64"
      },
      "source": [
        "X.info()"
      ],
      "execution_count": 13,
      "outputs": [
        {
          "output_type": "stream",
          "text": [
            "<class 'pandas.core.frame.DataFrame'>\n",
            "Int64Index: 2246 entries, 0 to 2281\n",
            "Data columns (total 28 columns):\n",
            " #   Column                                Non-Null Count  Dtype  \n",
            "---  ------                                --------------  -----  \n",
            " 0   All Damage Done                       2246 non-null   float64\n",
            " 1   Average Time Alive                    2246 non-null   float64\n",
            " 2   Critical Hit Accuracy                 2246 non-null   float64\n",
            " 3   Critical Hits                         2246 non-null   float64\n",
            " 4   Damage - Weapon                       2246 non-null   float64\n",
            " 5   Damage Done                           2246 non-null   float64\n",
            " 6   Damage Taken                          2246 non-null   float64\n",
            " 7   Deaths                                2246 non-null   float64\n",
            " 8   Eliminations                          2246 non-null   float64\n",
            " 9   Final Blows                           2246 non-null   float64\n",
            " 10  Healing Done                          2246 non-null   float64\n",
            " 11  Healing Received                      2246 non-null   float64\n",
            " 12  Hero Damage Done                      2246 non-null   float64\n",
            " 13  Objective Time                        2246 non-null   float64\n",
            " 14  Quick Melee Ticks                     2246 non-null   float64\n",
            " 15  Self Healing                          2246 non-null   float64\n",
            " 16  Self Healing Percent of Damage Taken  2246 non-null   float64\n",
            " 17  Shots Fired                           2246 non-null   float64\n",
            " 18  Shots Hit                             2246 non-null   float64\n",
            " 19  Shots Missed                          2246 non-null   float64\n",
            " 20  Time Alive                            2246 non-null   float64\n",
            " 21  Time Building Ultimate                2246 non-null   float64\n",
            " 22  Time Elapsed per Ultimate Earned      2246 non-null   float64\n",
            " 23  Time Holding Ultimate                 2246 non-null   float64\n",
            " 24  Time Played                           2246 non-null   float64\n",
            " 25  Ultimates Earned - Fractional         2246 non-null   float64\n",
            " 26  Ultimates Used                        2246 non-null   float64\n",
            " 27  Weapon Accuracy                       2246 non-null   float64\n",
            "dtypes: float64(28)\n",
            "memory usage: 508.9 KB\n"
          ],
          "name": "stdout"
        }
      ]
    },
    {
      "cell_type": "markdown",
      "metadata": {
        "id": "UQJW-Bm_8kFs"
      },
      "source": [
        "# 전처리 및 데이터 분할"
      ]
    },
    {
      "cell_type": "code",
      "metadata": {
        "id": "5BdZ1JPj8Lji"
      },
      "source": [
        "from sklearn.preprocessing import LabelEncoder\n",
        "\n",
        "le = LabelEncoder()       # 범주형 변수를 0부터 시작하는 정수형 숫자로 변환\n",
        "y = le.fit_transform(y)   \n"
      ],
      "execution_count": 14,
      "outputs": []
    },
    {
      "cell_type": "code",
      "metadata": {
        "colab": {
          "base_uri": "https://localhost:8080/"
        },
        "id": "Is1cn1Q-Bqel",
        "outputId": "84bee195-d5a0-4bd5-d451-40466e537492"
      },
      "source": [
        "y"
      ],
      "execution_count": 15,
      "outputs": [
        {
          "output_type": "execute_result",
          "data": {
            "text/plain": [
              "array([0, 1, 0, ..., 1, 0, 1])"
            ]
          },
          "metadata": {
            "tags": []
          },
          "execution_count": 15
        }
      ]
    },
    {
      "cell_type": "markdown",
      "metadata": {
        "id": "OHEKpWiV_Y9Q"
      },
      "source": [
        "## train data , test data split"
      ]
    },
    {
      "cell_type": "code",
      "metadata": {
        "id": "4q0qz4Xc-AfR"
      },
      "source": [
        "X_train, X_test, y_train, y_test = train_test_split(X,y, test_size=0.3, random_state=100, stratify=y)"
      ],
      "execution_count": 16,
      "outputs": []
    },
    {
      "cell_type": "markdown",
      "metadata": {
        "id": "-9EDGVvd-GAx"
      },
      "source": [
        "# 모델"
      ]
    },
    {
      "cell_type": "code",
      "metadata": {
        "id": "O2miBjoW-Eu2"
      },
      "source": [
        "logistic = LogisticRegression(solver='liblinear',penalty='l2',C= 0.1,random_state=1)\n",
        "tree = DecisionTreeClassifier(max_depth=4,criterion='entropy',random_state=1)\n",
        "knn = KNeighborsClassifier(n_neighbors=41,p=2,metric='minkowski')\n",
        "\n",
        "voting_estimators = [('logistic', logistic), ('tree', tree), ('knn', knn)]\n",
        "\n",
        "voting = VotingClassifier(estimators = voting_estimators,voting='soft')\n",
        "\n",
        "forest = RandomForestClassifier(criterion='entropy',n_estimators=700,random_state=1)\n",
        "\n",
        "lgb = LGBMClassifier(random_state=42)\n",
        "xgb = XGBClassifier(tree_method='hist',random_state=41)\n",
        "\n",
        "adaboost = AdaBoostClassifier(base_estimator=tree, \n",
        "                                n_estimators=100,\n",
        "                                learning_rate = 0.01, \n",
        "                                random_state=42)\n",
        "\n",
        "clf_labels = ['Logistic regression', 'Decision tree',  'Majority voting','Random forest','Ada boost','XGB','LIGHTGBM']\n",
        "\n",
        "all_clf = [logistic, tree, voting, forest,adaboost,xgb,lgb]"
      ],
      "execution_count": 54,
      "outputs": []
    },
    {
      "cell_type": "markdown",
      "metadata": {
        "id": "s-y2wJXhHQ9E"
      },
      "source": [
        "### AUC 검정"
      ]
    },
    {
      "cell_type": "code",
      "metadata": {
        "colab": {
          "base_uri": "https://localhost:8080/"
        },
        "id": "VG4xWnLPHPvt",
        "outputId": "9e41ce6c-ccb2-4c70-c6c1-d5d599d26e91"
      },
      "source": [
        "for clf, label in zip(all_clf, clf_labels):\n",
        "  scores = cross_val_score(estimator=clf,X=X_train,y=y_train,cv=10,scoring='roc_auc')\n",
        "  print(\"ROC AUC: %0.3f (+/- %0.3f) [%s]\"\n",
        "  % (scores.mean(), scores.std(), label))"
      ],
      "execution_count": 49,
      "outputs": [
        {
          "output_type": "stream",
          "text": [
            "ROC AUC: 0.968 (+/- 0.011) [Logistic regression]\n",
            "ROC AUC: 0.955 (+/- 0.009) [Decision tree]\n",
            "ROC AUC: 0.855 (+/- 0.031) [KNN]\n",
            "ROC AUC: 0.972 (+/- 0.008) [Majority voting]\n",
            "ROC AUC: 0.965 (+/- 0.011) [Random forest]\n",
            "ROC AUC: 0.961 (+/- 0.012) [Ada boost]\n",
            "ROC AUC: 0.968 (+/- 0.007) [XGB]\n",
            "ROC AUC: 0.965 (+/- 0.010) [LIGHTBM]\n"
          ],
          "name": "stdout"
        }
      ]
    },
    {
      "cell_type": "markdown",
      "metadata": {
        "id": "-gPfWkI3Q7jM"
      },
      "source": [
        "# 특성 중요도"
      ]
    },
    {
      "cell_type": "code",
      "metadata": {
        "colab": {
          "base_uri": "https://localhost:8080/"
        },
        "id": "v4NDK69G7sL7",
        "outputId": "59e0520e-5ad7-4ca3-bac5-f301f84e4840"
      },
      "source": [
        "forest.fit(X,y)"
      ],
      "execution_count": 23,
      "outputs": [
        {
          "output_type": "execute_result",
          "data": {
            "text/plain": [
              "RandomForestClassifier(bootstrap=True, ccp_alpha=0.0, class_weight=None,\n",
              "                       criterion='entropy', max_depth=None, max_features='auto',\n",
              "                       max_leaf_nodes=None, max_samples=None,\n",
              "                       min_impurity_decrease=0.0, min_impurity_split=None,\n",
              "                       min_samples_leaf=1, min_samples_split=2,\n",
              "                       min_weight_fraction_leaf=0.0, n_estimators=700,\n",
              "                       n_jobs=None, oob_score=False, random_state=1, verbose=0,\n",
              "                       warm_start=False)"
            ]
          },
          "metadata": {
            "tags": []
          },
          "execution_count": 23
        }
      ]
    },
    {
      "cell_type": "code",
      "metadata": {
        "id": "HoeVBGrH8jeY"
      },
      "source": [
        "features = X.columns.values"
      ],
      "execution_count": 27,
      "outputs": []
    },
    {
      "cell_type": "code",
      "metadata": {
        "colab": {
          "base_uri": "https://localhost:8080/"
        },
        "id": "zQGf_JiZ8RZH",
        "outputId": "0352dfe0-bb7d-4bfc-881c-92111d771fdc"
      },
      "source": [
        "zip(forest.feature_importances_,features)"
      ],
      "execution_count": 30,
      "outputs": [
        {
          "output_type": "execute_result",
          "data": {
            "text/plain": [
              "<zip at 0x7f370dffcdc0>"
            ]
          },
          "metadata": {
            "tags": []
          },
          "execution_count": 30
        }
      ]
    },
    {
      "cell_type": "code",
      "metadata": {
        "colab": {
          "base_uri": "https://localhost:8080/",
          "height": 568
        },
        "id": "W_cQyvP_6TQ6",
        "outputId": "0f090c3b-6b24-48c4-9702-6bd394b2558f"
      },
      "source": [
        "import seaborn as sns\n",
        "import matplotlib.pyplot as plt\n",
        "\n",
        "feature_importance = forest.feature_importances_\n",
        "# plot\n",
        "df_fi = pd.DataFrame({'columns':X.columns, 'importances':feature_importance})\n",
        "df_fi = df_fi[df_fi['importances'] > 0] # importance가 0이상인 것만 \n",
        "df_fi = df_fi.sort_values(by=['importances'], ascending=False)\n",
        "\n",
        "fig = plt.figure(figsize=(15,7))\n",
        "ax = sns.barplot(df_fi['columns'], df_fi['importances'])\n",
        "ax.set_xticklabels(df_fi['columns'], rotation=80, fontsize=13)\n",
        "plt.tight_layout()\n",
        "plt.show()"
      ],
      "execution_count": 39,
      "outputs": [
        {
          "output_type": "stream",
          "text": [
            "/usr/local/lib/python3.7/dist-packages/seaborn/_decorators.py:43: FutureWarning: Pass the following variables as keyword args: x, y. From version 0.12, the only valid positional argument will be `data`, and passing other arguments without an explicit keyword will result in an error or misinterpretation.\n",
            "  FutureWarning\n"
          ],
          "name": "stderr"
        },
        {
          "output_type": "display_data",
          "data": {
            "image/png": "[encoded data removed]",
            "text/plain": [
              "<Figure size 1080x504 with 1 Axes>"
            ]
          },
          "metadata": {
            "tags": [],
            "needs_background": "light"
          }
        }
      ]
    },
    {
      "cell_type": "markdown",
      "metadata": {
        "id": "NlFBV-_dKdKd"
      },
      "source": [
        "### ROC 커브"
      ]
    },
    {
      "cell_type": "code",
      "metadata": {
        "colab": {
          "base_uri": "https://localhost:8080/",
          "height": 279
        },
        "id": "Tz_TkkMbIQT6",
        "outputId": "8e99484c-16a3-48a4-cae8-f93c3662e28d"
      },
      "source": [
        "colors = ['black', 'orange', 'blue', 'green','red','gray','skyblue']\n",
        "linestyles = [':', '--', '-.', '-','solid','dashdot','dotted']\n",
        "for clf, label, clr, ls \\\n",
        "        in zip(all_clf, clf_labels, colors, linestyles):\n",
        "\n",
        "  clf.fit(X_train, y_train)\n",
        "  y_pred = clf.predict_proba(X_test)[:, 1]\n",
        "  fpr, tpr, thresholds = roc_curve(y_true=y_test,\n",
        "                                  y_score=y_pred)\n",
        "  roc_auc = auc(x=fpr, y=tpr) # 교차검증 X\n",
        "  plt.plot(fpr, tpr,\n",
        "            color=clr,\n",
        "            linestyle=ls,\n",
        "            label='%s (auc = %0.3f)' % (label, roc_auc))\n",
        "  \n",
        "plt.legend(loc='lower right')\n",
        "plt.plot([0, 1], [0, 1],\n",
        "          linestyle='--',\n",
        "          color='gray',\n",
        "          linewidth=2)\n",
        "\n",
        "plt.xlim([-0.1, 1.1])\n",
        "plt.ylim([-0.1, 1.1])\n",
        "plt.grid(alpha=0.5)\n",
        "plt.xlabel('False positive rate (FPR)')\n",
        "plt.ylabel('True positive rate (TPR)')\n",
        "\n",
        "plt.show()"
      ],
      "execution_count": 55,
      "outputs": [
        {
          "output_type": "display_data",
          "data": {
            "image/png": "[encoded data removed]",
            "text/plain": [
              "<Figure size 432x288 with 1 Axes>"
            ]
          },
          "metadata": {
            "tags": [],
            "needs_background": "light"
          }
        }
      ]
    },
    {
      "cell_type": "markdown",
      "metadata": {
        "id": "aB-V1ksqJAQ2"
      },
      "source": [
        "### 정오 분류표로 검정"
      ]
    },
    {
      "cell_type": "code",
      "metadata": {
        "colab": {
          "base_uri": "https://localhost:8080/"
        },
        "id": "1D-SUH9zI_t7",
        "outputId": "681edbf6-d735-430b-bc73-86c54f195d82"
      },
      "source": [
        "voting.fit(X_train, y_train)\n",
        "y_pred = voting.predict(X_test)\n",
        "\n",
        "print('잘못 분류된 샘플 개수: %d' % (y_test != y_pred).sum())\n",
        "print('정확도: %.3f' % accuracy_score(y_test, y_pred))\n",
        "print('정밀도: %.3f' % precision_score(y_true=y_test, y_pred=y_pred))\n",
        "print('재현율: %.3f' % recall_score(y_true=y_test, y_pred=y_pred))\n",
        "print('F1: %.3f' % f1_score(y_true=y_test, y_pred=y_pred))"
      ],
      "execution_count": null,
      "outputs": [
        {
          "output_type": "stream",
          "text": [
            "잘못 분류된 샘플 개수: 71\n",
            "정확도: 0.895\n",
            "정밀도: 0.901\n",
            "재현율: 0.887\n",
            "F1: 0.894\n"
          ],
          "name": "stdout"
        }
      ]
    },
    {
      "cell_type": "markdown",
      "metadata": {
        "id": "KcQltlnXC-KI"
      },
      "source": [
        "# 모수 튜닝"
      ]
    },
    {
      "cell_type": "markdown",
      "metadata": {
        "id": "R98JB9-bDGLq"
      },
      "source": [
        "## voting"
      ]
    },
    {
      "cell_type": "code",
      "metadata": {
        "colab": {
          "base_uri": "https://localhost:8080/"
        },
        "id": "RhNufHhzC-_o",
        "outputId": "b9280c00-13f6-4e4e-b622-ae3f78074f89"
      },
      "source": [
        "voting.get_params()"
      ],
      "execution_count": null,
      "outputs": [
        {
          "output_type": "execute_result",
          "data": {
            "text/plain": [
              "{'estimators': [('logistic',\n",
              "   LogisticRegression(C=0.1, class_weight=None, dual=False, fit_intercept=True,\n",
              "                      intercept_scaling=1, l1_ratio=None, max_iter=100,\n",
              "                      multi_class='auto', n_jobs=None, penalty='l2',\n",
              "                      random_state=1, solver='liblinear', tol=0.0001, verbose=0,\n",
              "                      warm_start=False)),\n",
              "  ('tree',\n",
              "   DecisionTreeClassifier(ccp_alpha=0.0, class_weight=None, criterion='entropy',\n",
              "                          max_depth=4, max_features=None, max_leaf_nodes=None,\n",
              "                          min_impurity_decrease=0.0, min_impurity_split=None,\n",
              "                          min_samples_leaf=1, min_samples_split=2,\n",
              "                          min_weight_fraction_leaf=0.0, presort='deprecated',\n",
              "                          random_state=1, splitter='best')),\n",
              "  ('knn',\n",
              "   KNeighborsClassifier(algorithm='auto', leaf_size=30, metric='minkowski',\n",
              "                        metric_params=None, n_jobs=None, n_neighbors=41, p=2,\n",
              "                        weights='uniform'))],\n",
              " 'flatten_transform': True,\n",
              " 'knn': KNeighborsClassifier(algorithm='auto', leaf_size=30, metric='minkowski',\n",
              "                      metric_params=None, n_jobs=None, n_neighbors=41, p=2,\n",
              "                      weights='uniform'),\n",
              " 'knn__algorithm': 'auto',\n",
              " 'knn__leaf_size': 30,\n",
              " 'knn__metric': 'minkowski',\n",
              " 'knn__metric_params': None,\n",
              " 'knn__n_jobs': None,\n",
              " 'knn__n_neighbors': 41,\n",
              " 'knn__p': 2,\n",
              " 'knn__weights': 'uniform',\n",
              " 'logistic': LogisticRegression(C=0.1, class_weight=None, dual=False, fit_intercept=True,\n",
              "                    intercept_scaling=1, l1_ratio=None, max_iter=100,\n",
              "                    multi_class='auto', n_jobs=None, penalty='l2',\n",
              "                    random_state=1, solver='liblinear', tol=0.0001, verbose=0,\n",
              "                    warm_start=False),\n",
              " 'logistic__C': 0.1,\n",
              " 'logistic__class_weight': None,\n",
              " 'logistic__dual': False,\n",
              " 'logistic__fit_intercept': True,\n",
              " 'logistic__intercept_scaling': 1,\n",
              " 'logistic__l1_ratio': None,\n",
              " 'logistic__max_iter': 100,\n",
              " 'logistic__multi_class': 'auto',\n",
              " 'logistic__n_jobs': None,\n",
              " 'logistic__penalty': 'l2',\n",
              " 'logistic__random_state': 1,\n",
              " 'logistic__solver': 'liblinear',\n",
              " 'logistic__tol': 0.0001,\n",
              " 'logistic__verbose': 0,\n",
              " 'logistic__warm_start': False,\n",
              " 'n_jobs': None,\n",
              " 'tree': DecisionTreeClassifier(ccp_alpha=0.0, class_weight=None, criterion='entropy',\n",
              "                        max_depth=4, max_features=None, max_leaf_nodes=None,\n",
              "                        min_impurity_decrease=0.0, min_impurity_split=None,\n",
              "                        min_samples_leaf=1, min_samples_split=2,\n",
              "                        min_weight_fraction_leaf=0.0, presort='deprecated',\n",
              "                        random_state=1, splitter='best'),\n",
              " 'tree__ccp_alpha': 0.0,\n",
              " 'tree__class_weight': None,\n",
              " 'tree__criterion': 'entropy',\n",
              " 'tree__max_depth': 4,\n",
              " 'tree__max_features': None,\n",
              " 'tree__max_leaf_nodes': None,\n",
              " 'tree__min_impurity_decrease': 0.0,\n",
              " 'tree__min_impurity_split': None,\n",
              " 'tree__min_samples_leaf': 1,\n",
              " 'tree__min_samples_split': 2,\n",
              " 'tree__min_weight_fraction_leaf': 0.0,\n",
              " 'tree__presort': 'deprecated',\n",
              " 'tree__random_state': 1,\n",
              " 'tree__splitter': 'best',\n",
              " 'voting': 'soft',\n",
              " 'weights': None}"
            ]
          },
          "metadata": {
            "tags": []
          },
          "execution_count": 30
        }
      ]
    },
    {
      "cell_type": "code",
      "metadata": {
        "id": "jkiSXNh8DoAf"
      },
      "source": [
        "parms = {'logistic__C':[0.001,0.1,100.0],\n",
        "         'tree__max_depth' :  [1,2,3,4,5],\n",
        "         'knn__n_neighbors':[1,2,3,4,5]}\n",
        "\n",
        "\n",
        "grid = GridSearchCV(estimator=voting, \n",
        "                    param_grid=parms,\n",
        "                    cv=10,\n",
        "                    scoring='roc_auc',\n",
        "                    iid=False)\n",
        "\n",
        "\n"
      ],
      "execution_count": null,
      "outputs": []
    },
    {
      "cell_type": "code",
      "metadata": {
        "id": "gH2TjECEFDAZ"
      },
      "source": [
        "grid.fit(X_train,y_train)"
      ],
      "execution_count": null,
      "outputs": []
    },
    {
      "cell_type": "code",
      "metadata": {
        "id": "eeT3PNOLFz9a"
      },
      "source": [
        "for r, _ in enumerate(grid.cv_results_['mean_test_score']):\n",
        "  print(\"%0.3f +/- %0.3f %r\" % (grid.cv_results_['mean_test_score'][r],\n",
        "        grid.cv_results_['std_test_score'][r] / 2.0,\n",
        "        grid.cv_results_['params'][r]))\n"
      ],
      "execution_count": null,
      "outputs": []
    },
    {
      "cell_type": "code",
      "metadata": {
        "id": "ewBvZ6w7EYln"
      },
      "source": [
        "print('최적의 파타미터: %s' % grid.best_params_)\n",
        "print('ACU: %.3f' % grid.best_score_)\n"
      ],
      "execution_count": null,
      "outputs": []
    },
    {
      "cell_type": "markdown",
      "metadata": {
        "id": "K5ewFv1rI4HT"
      },
      "source": [
        "## adaboost"
      ]
    },
    {
      "cell_type": "code",
      "metadata": {
        "colab": {
          "base_uri": "https://localhost:8080/"
        },
        "id": "zmKvKOD-I3vM",
        "outputId": "7230629c-0d99-4373-dadc-e0e25e1af078"
      },
      "source": [
        "adaboost.get_params()"
      ],
      "execution_count": 56,
      "outputs": [
        {
          "output_type": "execute_result",
          "data": {
            "text/plain": [
              "{'algorithm': 'SAMME.R',\n",
              " 'base_estimator': DecisionTreeClassifier(ccp_alpha=0.0, class_weight=None, criterion='entropy',\n",
              "                        max_depth=4, max_features=None, max_leaf_nodes=None,\n",
              "                        min_impurity_decrease=0.0, min_impurity_split=None,\n",
              "                        min_samples_leaf=1, min_samples_split=2,\n",
              "                        min_weight_fraction_leaf=0.0, presort='deprecated',\n",
              "                        random_state=1, splitter='best'),\n",
              " 'base_estimator__ccp_alpha': 0.0,\n",
              " 'base_estimator__class_weight': None,\n",
              " 'base_estimator__criterion': 'entropy',\n",
              " 'base_estimator__max_depth': 4,\n",
              " 'base_estimator__max_features': None,\n",
              " 'base_estimator__max_leaf_nodes': None,\n",
              " 'base_estimator__min_impurity_decrease': 0.0,\n",
              " 'base_estimator__min_impurity_split': None,\n",
              " 'base_estimator__min_samples_leaf': 1,\n",
              " 'base_estimator__min_samples_split': 2,\n",
              " 'base_estimator__min_weight_fraction_leaf': 0.0,\n",
              " 'base_estimator__presort': 'deprecated',\n",
              " 'base_estimator__random_state': 1,\n",
              " 'base_estimator__splitter': 'best',\n",
              " 'learning_rate': 0.01,\n",
              " 'n_estimators': 100,\n",
              " 'random_state': 42}"
            ]
          },
          "metadata": {
            "tags": []
          },
          "execution_count": 56
        }
      ]
    },
    {
      "cell_type": "code",
      "metadata": {
        "id": "dET7T5AKI78I"
      },
      "source": [
        "parms = {'n_estimators': [100,200,300,500,700,1000]\n",
        "             }\n",
        "\n",
        "\n",
        "grid = GridSearchCV(estimator=adaboost, \n",
        "                    param_grid=parms,\n",
        "                    cv=10,\n",
        "                    scoring='roc_auc',\n",
        "                    iid=False)\n",
        "\n",
        "grid.fit(X_train,y_train)\n",
        "\n",
        "for r, _ in enumerate(grid.cv_results_['mean_test_score']):\n",
        "  print(\"%0.3f +/- %0.3f %r\" % (grid.cv_results_['mean_test_score'][r],\n",
        "        grid.cv_results_['std_test_score'][r] / 2.0,\n",
        "        grid.cv_results_['params'][r]))"
      ],
      "execution_count": null,
      "outputs": []
    },
    {
      "cell_type": "code",
      "metadata": {
        "id": "OM1F3TZdI-7Y"
      },
      "source": [
        "print('최적의 파타미터: %s' % grid.best_params_)\n",
        "print('ACU: %.3f' % grid.best_score_)"
      ],
      "execution_count": null,
      "outputs": []
    }
  ]
}